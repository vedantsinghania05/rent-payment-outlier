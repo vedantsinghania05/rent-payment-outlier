{
 "cells": [
  {
   "cell_type": "code",
   "execution_count": 1,
   "metadata": {},
   "outputs": [],
   "source": [
    "import pandas as pd\n",
    "import numpy as np\n",
    "import math\n",
    "from datetime import datetime\n",
    "from sklearn.preprocessing import LabelEncoder\n",
    "from sklearn.model_selection import train_test_split\n",
    "from sklearn.ensemble import RandomForestRegressor"
   ]
  },
  {
   "cell_type": "code",
   "execution_count": 2,
   "metadata": {},
   "outputs": [
    {
     "data": {
      "text/html": [
       "<div>\n",
       "<style scoped>\n",
       "    .dataframe tbody tr th:only-of-type {\n",
       "        vertical-align: middle;\n",
       "    }\n",
       "\n",
       "    .dataframe tbody tr th {\n",
       "        vertical-align: top;\n",
       "    }\n",
       "\n",
       "    .dataframe thead th {\n",
       "        text-align: right;\n",
       "    }\n",
       "</style>\n",
       "<table border=\"1\" class=\"dataframe\">\n",
       "  <thead>\n",
       "    <tr style=\"text-align: right;\">\n",
       "      <th></th>\n",
       "      <th>GLCODE</th>\n",
       "      <th>GLNAME</th>\n",
       "      <th>PROPERTY</th>\n",
       "      <th>PROPERTYNAME</th>\n",
       "      <th>UNIT</th>\n",
       "      <th>BUILDING</th>\n",
       "      <th>SPECIALCIRCUMSTANCE</th>\n",
       "      <th>USAGEAMOUNT</th>\n",
       "      <th>USAGETYPE</th>\n",
       "      <th>DATE</th>\n",
       "      <th>PERIOD</th>\n",
       "      <th>DESCRIPTION</th>\n",
       "      <th>CONTROL</th>\n",
       "      <th>REFERENCE</th>\n",
       "      <th>AMOUNT</th>\n",
       "      <th>DEBITCREDIT</th>\n",
       "      <th>BALANCE</th>\n",
       "      <th>REMARKS</th>\n",
       "    </tr>\n",
       "  </thead>\n",
       "  <tbody>\n",
       "    <tr>\n",
       "      <th>0</th>\n",
       "      <td>1110-0000</td>\n",
       "      <td>Cash</td>\n",
       "      <td>ap-mc11</td>\n",
       "      <td>4203 11TH LLC</td>\n",
       "      <td>42031</td>\n",
       "      <td></td>\n",
       "      <td></td>\n",
       "      <td></td>\n",
       "      <td></td>\n",
       "      <td>09/09/2020</td>\n",
       "      <td>12/01/2020</td>\n",
       "      <td>Webster S8 (t0034597)</td>\n",
       "      <td>K-396581</td>\n",
       "      <td>165</td>\n",
       "      <td>8500.0</td>\n",
       "      <td>Credit</td>\n",
       "      <td>1813181.59</td>\n",
       "      <td>First buyout check</td>\n",
       "    </tr>\n",
       "    <tr>\n",
       "      <th>1</th>\n",
       "      <td>1110-0000</td>\n",
       "      <td>Cash</td>\n",
       "      <td>ap-mc11</td>\n",
       "      <td>4203 11TH LLC</td>\n",
       "      <td>42032</td>\n",
       "      <td></td>\n",
       "      <td></td>\n",
       "      <td></td>\n",
       "      <td></td>\n",
       "      <td>09/29/2020</td>\n",
       "      <td>12/01/2020</td>\n",
       "      <td>Webster (t0034598)</td>\n",
       "      <td>K-405215</td>\n",
       "      <td>173</td>\n",
       "      <td>2500.0</td>\n",
       "      <td>Credit</td>\n",
       "      <td>1810681.59</td>\n",
       "      <td></td>\n",
       "    </tr>\n",
       "    <tr>\n",
       "      <th>2</th>\n",
       "      <td>1110-0000</td>\n",
       "      <td>Cash</td>\n",
       "      <td>ap-mc11</td>\n",
       "      <td>4203 11TH LLC</td>\n",
       "      <td>42031</td>\n",
       "      <td></td>\n",
       "      <td></td>\n",
       "      <td></td>\n",
       "      <td></td>\n",
       "      <td>10/27/2020</td>\n",
       "      <td>12/01/2020</td>\n",
       "      <td>Webster S8 (t0034597)</td>\n",
       "      <td>K-417819</td>\n",
       "      <td>183</td>\n",
       "      <td>9100.0</td>\n",
       "      <td>Credit</td>\n",
       "      <td>1801581.59</td>\n",
       "      <td></td>\n",
       "    </tr>\n",
       "    <tr>\n",
       "      <th>3</th>\n",
       "      <td>1110-0000</td>\n",
       "      <td>Cash</td>\n",
       "      <td>ap-mc11</td>\n",
       "      <td>4203 11TH LLC</td>\n",
       "      <td>42052</td>\n",
       "      <td></td>\n",
       "      <td></td>\n",
       "      <td></td>\n",
       "      <td></td>\n",
       "      <td>10/29/2020</td>\n",
       "      <td>12/01/2020</td>\n",
       "      <td>Jones (t0034602)</td>\n",
       "      <td>K-420897</td>\n",
       "      <td>187</td>\n",
       "      <td>3500.0</td>\n",
       "      <td>Credit</td>\n",
       "      <td>1798081.59</td>\n",
       "      <td>First Buyout Check</td>\n",
       "    </tr>\n",
       "    <tr>\n",
       "      <th>4</th>\n",
       "      <td>1110-0000</td>\n",
       "      <td>Cash</td>\n",
       "      <td>ap-mc11</td>\n",
       "      <td>4203 11TH LLC</td>\n",
       "      <td>42053</td>\n",
       "      <td></td>\n",
       "      <td></td>\n",
       "      <td></td>\n",
       "      <td></td>\n",
       "      <td>11/02/2020</td>\n",
       "      <td>12/01/2020</td>\n",
       "      <td>Dow (t0034603)</td>\n",
       "      <td>K-421957</td>\n",
       "      <td>190</td>\n",
       "      <td>3500.0</td>\n",
       "      <td>Credit</td>\n",
       "      <td>1794581.59</td>\n",
       "      <td>First Buyout Check</td>\n",
       "    </tr>\n",
       "  </tbody>\n",
       "</table>\n",
       "</div>"
      ],
      "text/plain": [
       "      GLCODE  GLNAME  PROPERTY    PROPERTYNAME    UNIT  BUILDING  \\\n",
       "0  1110-0000    Cash   ap-mc11   4203 11TH LLC   42031             \n",
       "1  1110-0000    Cash   ap-mc11   4203 11TH LLC   42032             \n",
       "2  1110-0000    Cash   ap-mc11   4203 11TH LLC   42031             \n",
       "3  1110-0000    Cash   ap-mc11   4203 11TH LLC   42052             \n",
       "4  1110-0000    Cash   ap-mc11   4203 11TH LLC   42053             \n",
       "\n",
       "   SPECIALCIRCUMSTANCE  USAGEAMOUNT  USAGETYPE         DATE       PERIOD  \\\n",
       "0                                                09/09/2020   12/01/2020   \n",
       "1                                                09/29/2020   12/01/2020   \n",
       "2                                                10/27/2020   12/01/2020   \n",
       "3                                                10/29/2020   12/01/2020   \n",
       "4                                                11/02/2020   12/01/2020   \n",
       "\n",
       "              DESCRIPTION    CONTROL  REFERENCE   AMOUNT  DEBITCREDIT  \\\n",
       "0   Webster S8 (t0034597)   K-396581        165   8500.0       Credit   \n",
       "1      Webster (t0034598)   K-405215        173   2500.0       Credit   \n",
       "2   Webster S8 (t0034597)   K-417819        183   9100.0       Credit   \n",
       "3        Jones (t0034602)   K-420897        187   3500.0       Credit   \n",
       "4          Dow (t0034603)   K-421957        190   3500.0       Credit   \n",
       "\n",
       "       BALANCE              REMARKS  \n",
       "0   1813181.59   First buyout check  \n",
       "1   1810681.59                       \n",
       "2   1801581.59                       \n",
       "3   1798081.59   First Buyout Check  \n",
       "4   1794581.59   First Buyout Check  "
      ]
     },
     "execution_count": 2,
     "metadata": {},
     "output_type": "execute_result"
    }
   ],
   "source": [
    "df = pd.read_csv('/Users/dhruv/code/export_yardi_jourentline.csv', lineterminator='\\n')\n",
    "df.head()\n"
   ]
  },
  {
   "cell_type": "code",
   "execution_count": 3,
   "metadata": {},
   "outputs": [],
   "source": [
    "df = df.drop(columns=[' BUILDING', ' SPECIALCIRCUMSTANCE', ' USAGEAMOUNT', ' USAGETYPE', ' UNIT', ' BALANCE', ' CONTROL', ' REFERENCE', ' REMARKS', ' DESCRIPTION'])"
   ]
  },
  {
   "cell_type": "code",
   "execution_count": 4,
   "metadata": {},
   "outputs": [],
   "source": [
    "df.columns = df.columns.map(lambda c: c.strip())\n",
    "\n",
    "df['DATE'] = df['DATE'].map(lambda d: datetime.strptime(d, ' %m/%d/%Y'))\n",
    "df['PERIOD'] = df['PERIOD'].map(lambda p: datetime.strptime(p, ' %m/%d/%Y'))\n",
    "\n",
    "df['AMOUNT'] = df['AMOUNT'].map(lambda a: math.ceil(a))\n"
   ]
  },
  {
   "cell_type": "code",
   "execution_count": 5,
   "metadata": {},
   "outputs": [],
   "source": [
    "catCols = [col for col in df.columns if df[col].dtype == 'object' or df[col].dtype == 'datetime64[ns]']\n"
   ]
  },
  {
   "cell_type": "code",
   "execution_count": 6,
   "metadata": {},
   "outputs": [
    {
     "name": "stdout",
     "output_type": "stream",
     "text": [
      "GLCODE 238\n",
      "GLNAME 234\n",
      "PROPERTY 56\n",
      "PROPERTYNAME 54\n",
      "DATE 388\n",
      "PERIOD 6\n",
      "DEBITCREDIT 2\n"
     ]
    }
   ],
   "source": [
    "for col in catCols:\n",
    "    print(col, df[col].nunique())"
   ]
  },
  {
   "cell_type": "code",
   "execution_count": 7,
   "metadata": {},
   "outputs": [
    {
     "name": "stdout",
     "output_type": "stream",
     "text": [
      "       GLCODE  GLNAME  PROPERTY  PROPERTYNAME  DATE  PERIOD  AMOUNT  \\\n",
      "0           0      27         0            25   147       0    8500   \n",
      "1           0      27         0            25   157       0    2500   \n",
      "2           0      27         0            25   174       0    9100   \n",
      "3           0      27         0            25   176       0    3500   \n",
      "4           0      27         0            25   180       0    3500   \n",
      "...       ...     ...       ...           ...   ...     ...     ...   \n",
      "96889     236     183        51            17   380       5    9940   \n",
      "96890     237     167         4            14   365       5    2712   \n",
      "96891     237     167        10             9   365       5     350   \n",
      "96892     237     167        36            44   294       5    3803   \n",
      "96893     237     167        51            17   365       5     175   \n",
      "\n",
      "       DEBITCREDIT  \n",
      "0                0  \n",
      "1                0  \n",
      "2                0  \n",
      "3                0  \n",
      "4                0  \n",
      "...            ...  \n",
      "96889            0  \n",
      "96890            1  \n",
      "96891            1  \n",
      "96892            1  \n",
      "96893            1  \n",
      "\n",
      "[96894 rows x 8 columns]\n"
     ]
    }
   ],
   "source": [
    "labelDf = df.copy()\n",
    "\n",
    "labelEncoder = LabelEncoder()\n",
    "\n",
    "for col in catCols:\n",
    "    labelDf[col] = labelEncoder.fit_transform(df[col])\n",
    "    \n",
    "df = labelDf.copy()\n",
    "\n",
    "print(df)\n"
   ]
  },
  {
   "cell_type": "code",
   "execution_count": 8,
   "metadata": {},
   "outputs": [],
   "source": [
    "X = df.copy()\n",
    "X = X.drop(['AMOUNT'], axis=1)\n",
    "\n",
    "y = df['AMOUNT']\n",
    "\n",
    "XTrain, XTest, yTrain, yTest = train_test_split(X, y, test_size=0.2, random_state=1) # THIS MESSES UP INDEXES\n",
    "\n",
    "XTrain = XTrain.reset_index(drop=True)\n",
    "yTrain = yTrain.reset_index(drop=True)\n",
    "XTest = XTest.reset_index(drop=True)\n",
    "yTest = yTest.reset_index(drop=True)\n"
   ]
  },
  {
   "cell_type": "code",
   "execution_count": 9,
   "metadata": {},
   "outputs": [],
   "source": [
    "model = RandomForestRegressor(n_estimators=100)\n",
    "model.fit(XTrain, yTrain)\n",
    "\n",
    "preds = pd.Series(model.predict(XTest))"
   ]
  },
  {
   "cell_type": "code",
   "execution_count": 10,
   "metadata": {},
   "outputs": [
    {
     "name": "stdout",
     "output_type": "stream",
     "text": [
      "0.8609228565234\n",
      "0.493258038727427\n"
     ]
    }
   ],
   "source": [
    "print(model.score(XTrain, yTrain))\n",
    "print(model.score(XTest, yTest))"
   ]
  },
  {
   "cell_type": "code",
   "execution_count": 11,
   "metadata": {},
   "outputs": [
    {
     "name": "stdout",
     "output_type": "stream",
     "text": [
      "             preds  yTest\n",
      "0      1544.780659    177\n",
      "1        94.590349    175\n",
      "2       168.325980      4\n",
      "3       856.485833    863\n",
      "4       347.287976    641\n",
      "...            ...    ...\n",
      "19374   532.751167    508\n",
      "19375   580.485641      4\n",
      "19376   392.948750   1050\n",
      "19377     2.962583      2\n",
      "19378  1148.436167   1269\n",
      "\n",
      "[19379 rows x 2 columns]\n"
     ]
    }
   ],
   "source": [
    "comparison = pd.concat([preds, yTest], axis=1)\n",
    "comparison.columns = ['preds', 'yTest']\n",
    "print(comparison)"
   ]
  }
 ],
 "metadata": {
  "kernelspec": {
   "display_name": "Python 3",
   "language": "python",
   "name": "python3"
  },
  "language_info": {
   "codemirror_mode": {
    "name": "ipython",
    "version": 3
   },
   "file_extension": ".py",
   "mimetype": "text/x-python",
   "name": "python",
   "nbconvert_exporter": "python",
   "pygments_lexer": "ipython3",
   "version": "3.8.5"
  }
 },
 "nbformat": 4,
 "nbformat_minor": 4
}
