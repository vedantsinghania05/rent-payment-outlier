{
 "cells": [
  {
   "cell_type": "code",
   "execution_count": null,
   "metadata": {},
   "outputs": [],
   "source": [
    "import pandas as pd\n",
    "import numpy as np\n",
    "import math\n",
    "import time\n",
    "from datetime import datetime\n",
    "from sklearn import metrics\n",
    "from sklearn.preprocessing import LabelEncoder\n",
    "from sklearn.model_selection import train_test_split\n",
    "from sklearn.ensemble import RandomForestRegressor\n",
    "from sklearn.preprocessing import MinMaxScaler\n",
    "\n",
    "pd.plotting.register_matplotlib_converters()\n",
    "import matplotlib.pyplot as plt\n",
    "%matplotlib inline\n",
    "import seaborn as sns\n"
   ]
  },
  {
   "cell_type": "code",
   "execution_count": null,
   "metadata": {},
   "outputs": [],
   "source": [
    "# TODO\n",
    "\n",
    "# change the date and period to an int (either month and year as seperate columns or a timestamp)\n",
    "# experiment with column combinations more\n",
    "# experiment with training on whole dataset"
   ]
  },
  {
   "cell_type": "code",
   "execution_count": null,
   "metadata": {},
   "outputs": [],
   "source": [
    "df = pd.read_csv('/Users/dhruv/code/export_yardi_jourentline.csv', lineterminator='\\n')\n",
    "df.head()"
   ]
  },
  {
   "cell_type": "code",
   "execution_count": null,
   "metadata": {},
   "outputs": [],
   "source": [
    "# ***** PREPROCESSING *****"
   ]
  },
  {
   "cell_type": "code",
   "execution_count": null,
   "metadata": {},
   "outputs": [],
   "source": [
    "df.columns = df.columns.map(lambda c: c.strip())\n",
    "\n",
    "cols = ['GLCODE', 'PROPERTY', 'UNIT', 'DATE', 'AMOUNT', 'DEBITCREDIT', 'DESCRIPTION', 'REMARKS']\n",
    "df = df[cols]\n",
    "\n",
    "df['DATE'] = df['DATE'].map(lambda d: datetime.strptime(d, ' %m/%d/%Y'))\n",
    "\n",
    "df['DATEDAY'] = df['DATE'].map(lambda d: int(d.day))\n",
    "df['DATEMO'] = df['DATE'].map(lambda d: int(d.month))\n",
    "df['DATEYR'] = df['DATE'].map(lambda d: int(d.year))\n",
    "\n",
    "df = df.drop(columns=['DATE'], axis=1)\n",
    "\n",
    "df['DEBIT'] = df['DEBITCREDIT'].map(lambda d: 1 if d == 'Debit' else 0)\n",
    "df['CREDIT'] = df['DEBITCREDIT'].map(lambda c: 1 if c == 'Credit' else 0)\n",
    "\n",
    "df['REMARKS'] = df['REMARKS'].map(lambda r: r.lower())\n",
    "\n",
    "df.head()\n"
   ]
  },
  {
   "cell_type": "code",
   "execution_count": null,
   "metadata": {},
   "outputs": [],
   "source": [
    "column = 'DEBITCREDIT'\n",
    "\n",
    "plt.figure(figsize=(10, 6))\n",
    "plt.title(column)\n",
    "\n",
    "sns.scatterplot(x=df[column], y=df['AMOUNT'])\n"
   ]
  },
  {
   "cell_type": "code",
   "execution_count": null,
   "metadata": {},
   "outputs": [],
   "source": [
    "X = df.copy()\n",
    "X = X.drop(['AMOUNT'], axis=1)\n",
    "\n",
    "y = df['AMOUNT']\n",
    "\n",
    "preXTrain, preXTest, yTrain, yTest = train_test_split(X, y, test_size=0.15, random_state=1)\n",
    "\n",
    "#preXTrain = X\n",
    "#yTrain = y\n",
    "#preXTest = X\n",
    "#yTest = y\n",
    "\n",
    "preXTrain = preXTrain.reset_index(drop=True)\n",
    "yTrain = yTrain.reset_index(drop=True)\n",
    "preXTest = preXTest.reset_index(drop=True)\n",
    "yTest = yTest.reset_index(drop=True)\n"
   ]
  },
  {
   "cell_type": "code",
   "execution_count": null,
   "metadata": {},
   "outputs": [],
   "source": [
    "catCols = [col for col in X.columns if X[col].dtype == 'object']\n"
   ]
  },
  {
   "cell_type": "code",
   "execution_count": null,
   "metadata": {},
   "outputs": [],
   "source": [
    "labelXTrain = preXTrain.copy()\n",
    "labelXTest = preXTest.copy()\n",
    "\n",
    "le = LabelEncoder()\n",
    "\n",
    "for col in catCols:\n",
    "    le.fit(labelXTrain[col])\n",
    "    \n",
    "    labelXTest[col] = labelXTest[col].map(lambda s: '<unknown>' if s not in le.classes_ else s)\n",
    "    \n",
    "    le.classes_ = np.append(le.classes_, '<unknown>')\n",
    "    \n",
    "    labelXTrain[col] = le.transform(labelXTrain[col])\n",
    "    labelXTest[col] = le.transform(labelXTest[col])\n",
    "    \n",
    "XTrain = labelXTrain.copy()\n",
    "XTest = labelXTest.copy()\n"
   ]
  },
  {
   "cell_type": "code",
   "execution_count": null,
   "metadata": {},
   "outputs": [],
   "source": [
    "# ***** MODEL CREATION *****"
   ]
  },
  {
   "cell_type": "code",
   "execution_count": null,
   "metadata": {},
   "outputs": [],
   "source": [
    "model = RandomForestRegressor(n_estimators=35, random_state=0)\n",
    "model.fit(XTrain, yTrain)\n",
    "\n",
    "testPreds = pd.Series(model.predict(XTest))\n",
    "testPreds = testPreds.map(lambda pred: round(pred, 2))"
   ]
  },
  {
   "cell_type": "code",
   "execution_count": null,
   "metadata": {},
   "outputs": [],
   "source": [
    "# ***** MODEL EVALUATION *****"
   ]
  },
  {
   "cell_type": "code",
   "execution_count": null,
   "metadata": {},
   "outputs": [],
   "source": [
    "comparison = pd.concat([yTest, testPreds], axis=1)\n",
    "comparison.columns = ['actual', 'predicted']\n",
    "print(comparison.iloc[0:25])\n"
   ]
  },
  {
   "cell_type": "code",
   "execution_count": null,
   "metadata": {},
   "outputs": [],
   "source": [
    "percentsList = []\n",
    "\n",
    "for i in range(0, len(yTest)):\n",
    "    \n",
    "    real = yTest[i]\n",
    "    pred = testPreds[i]\n",
    "    \n",
    "    percentOfReal = (pred/real)*100\n",
    "    percentOff = abs(100-percentOfReal)\n",
    "    \n",
    "    percentsList.append(round(percentOff, 2))\n",
    "\n",
    "percentsDf = pd.DataFrame(percentsList, columns=['percentOff'])\n",
    "percentsDf.head()\n",
    "\n",
    "def categorizePercents(p):\n",
    "    if p>=0 and p<5:\n",
    "        return 5\n",
    "    elif p>=5 and p<10:\n",
    "        return 10\n",
    "    elif p>=10 and p<20:\n",
    "        return 20\n",
    "    elif p>=20 and p<50:\n",
    "        return 50\n",
    "    elif p>=50 and p<100:\n",
    "        return 100\n",
    "    elif p>=100 and p<200:\n",
    "        return 200\n",
    "    elif p>=200 and p<500:\n",
    "        return 500\n",
    "    elif p>=500 and p<1000:\n",
    "        return 1000\n",
    "    elif p>=1000:\n",
    "        return 10000\n",
    "    else:\n",
    "        return 'unknown'\n",
    "\n",
    "\n",
    "percentsDf['category'] = percentsDf.apply(lambda p: categorizePercents(p['percentOff']), axis=1)\n",
    "\n",
    "percentRangeDf = percentsDf.groupby('category').size().reset_index(name='count')\n",
    "percentRangeDf['percentOfTotal'] = percentRangeDf['count']/len(percentsDf.index)*100\n",
    "\n",
    "print(percentRangeDf)\n"
   ]
  },
  {
   "cell_type": "code",
   "execution_count": null,
   "metadata": {},
   "outputs": [],
   "source": [
    "plt.figure(figsize=(10,6))\n",
    "plt.title('Bar Chart of %Error Counts')\n",
    "\n",
    "sns.barplot(x=percentRangeDf['category'], y=percentRangeDf['count'])\n"
   ]
  },
  {
   "cell_type": "code",
   "execution_count": null,
   "metadata": {},
   "outputs": [],
   "source": [
    "print('R2:', metrics.r2_score(yTest, testPreds))\n",
    "print('MAE:', metrics.mean_absolute_error(yTest, testPreds))\n",
    "print('RMSE:', metrics.mean_squared_error(yTest, testPreds, squared=False))\n"
   ]
  }
 ],
 "metadata": {
  "kernelspec": {
   "display_name": "Python 3",
   "language": "python",
   "name": "python3"
  },
  "language_info": {
   "codemirror_mode": {
    "name": "ipython",
    "version": 3
   },
   "file_extension": ".py",
   "mimetype": "text/x-python",
   "name": "python",
   "nbconvert_exporter": "python",
   "pygments_lexer": "ipython3",
   "version": "3.8.5"
  }
 },
 "nbformat": 4,
 "nbformat_minor": 4
}
