{
 "cells": [
  {
   "cell_type": "code",
   "execution_count": null,
   "metadata": {},
   "outputs": [],
   "source": [
    "# DataFrame Duplication Code\n",
    "\n",
    "df1 = df.copy()\n",
    "df2 = df.copy()\n",
    "df3 = df.copy()\n",
    "df4 = df.copy()\n",
    "df5 = df.copy()\n",
    "\n",
    "df = pd.concat([df1, df2, df3, df4, df5], axis=0)\n",
    "print(df.shape)\n"
   ]
  },
  {
   "cell_type": "code",
   "execution_count": null,
   "metadata": {},
   "outputs": [],
   "source": [
    "# Filter DF by column values\n",
    "\n",
    "newDf = df.copy()\n",
    "indexes = []\n",
    "\n",
    "def filterFn(i):\n",
    "\n",
    "    if newDf['GLCODE'][i] == '5305-0000':\n",
    "        if newDf['PROPERTY'][i] == ' ap-mc11':\n",
    "            indexes.append(i)\n",
    "\n",
    "newDf.index.map(lambda i: filterFn(i))\n",
    "\n",
    "print(newDf.iloc[indexes])\n"
   ]
  },
  {
   "cell_type": "code",
   "execution_count": null,
   "metadata": {},
   "outputs": [],
   "source": [
    "# Fake Data Creation Code\n",
    "\n",
    "fakeData = pd.DataFrame({'GLCODE': ['5305-0000'],\n",
    "            'PROPERTY': ['ap-mc11'],\n",
    "            'UNIT': ['42031'],\n",
    "            'DEBITCREDIT': ['Debit'],\n",
    "            'DESCRIPTION': [':Reversal of J-381498'],\n",
    "            'REMARKS': ['to accrue for January based on prior bill'],\n",
    "            'DATEDAY': [1],\n",
    "            'DATEMO': [2],\n",
    "            'DATEYR': [2023]})\n",
    "\n",
    "fakeData.head()\n"
   ]
  },
  {
   "cell_type": "code",
   "execution_count": null,
   "metadata": {},
   "outputs": [],
   "source": [
    "# Plot Column against Amount\n",
    "\n",
    "column = 'GLCODE'\n",
    "\n",
    "plt.figure(figsize=(10, 6))\n",
    "plt.title(column)\n",
    "\n",
    "sns.scatterplot(x=df[column], y=df['AMOUNT'])\n"
   ]
  },
  {
   "cell_type": "code",
   "execution_count": null,
   "metadata": {},
   "outputs": [],
   "source": [
    "# Find all unique GLCODEs (put in loop)\n",
    "\n",
    "if percentOff < 5:\n",
    "    glcode = preXTest['GLCODE'][i]\n",
    "    if glcode not in goodCodesDict:\n",
    "        goodCodesDict[glcode] = 1\n",
    "    else:\n",
    "        goodCodesDict[glcode] = goodCodesDict[glcode] + 1\n",
    "        \n",
    "# Sort and print GLCODEs\n",
    "\n",
    "sortedCodes = {k: v for k, v in sorted(goodCodesDict.items(), key=lambda item: item[1])}\n",
    "print(sortedCodes)\n"
   ]
  },
  {
   "cell_type": "code",
   "execution_count": null,
   "metadata": {},
   "outputs": [],
   "source": []
  },
  {
   "cell_type": "code",
   "execution_count": null,
   "metadata": {},
   "outputs": [],
   "source": []
  },
  {
   "cell_type": "code",
   "execution_count": null,
   "metadata": {},
   "outputs": [],
   "source": []
  },
  {
   "cell_type": "code",
   "execution_count": null,
   "metadata": {},
   "outputs": [],
   "source": []
  },
  {
   "cell_type": "code",
   "execution_count": null,
   "metadata": {},
   "outputs": [],
   "source": []
  },
  {
   "cell_type": "code",
   "execution_count": null,
   "metadata": {},
   "outputs": [],
   "source": []
  },
  {
   "cell_type": "code",
   "execution_count": null,
   "metadata": {},
   "outputs": [],
   "source": []
  },
  {
   "cell_type": "code",
   "execution_count": null,
   "metadata": {},
   "outputs": [],
   "source": []
  },
  {
   "cell_type": "code",
   "execution_count": null,
   "metadata": {},
   "outputs": [],
   "source": []
  },
  {
   "cell_type": "code",
   "execution_count": null,
   "metadata": {},
   "outputs": [],
   "source": []
  },
  {
   "cell_type": "code",
   "execution_count": null,
   "metadata": {},
   "outputs": [],
   "source": []
  },
  {
   "cell_type": "code",
   "execution_count": null,
   "metadata": {},
   "outputs": [],
   "source": []
  },
  {
   "cell_type": "code",
   "execution_count": null,
   "metadata": {},
   "outputs": [],
   "source": []
  },
  {
   "cell_type": "code",
   "execution_count": null,
   "metadata": {},
   "outputs": [],
   "source": []
  }
 ],
 "metadata": {
  "kernelspec": {
   "display_name": "Python 3",
   "language": "python",
   "name": "python3"
  },
  "language_info": {
   "codemirror_mode": {
    "name": "ipython",
    "version": 3
   },
   "file_extension": ".py",
   "mimetype": "text/x-python",
   "name": "python",
   "nbconvert_exporter": "python",
   "pygments_lexer": "ipython3",
   "version": "3.8.5"
  }
 },
 "nbformat": 4,
 "nbformat_minor": 4
}
