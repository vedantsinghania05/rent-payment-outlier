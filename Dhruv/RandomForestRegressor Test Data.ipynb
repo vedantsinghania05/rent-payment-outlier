{
 "cells": [
  {
   "cell_type": "code",
   "execution_count": 1,
   "metadata": {},
   "outputs": [],
   "source": [
    "import pandas as pd\n",
    "import numpy as np\n",
    "from sklearn.model_selection import train_test_split\n",
    "from sklearn.preprocessing import LabelEncoder\n",
    "from sklearn.ensemble import RandomForestRegressor\n",
    "from sklearn import metrics\n"
   ]
  },
  {
   "cell_type": "code",
   "execution_count": 2,
   "metadata": {},
   "outputs": [
    {
     "data": {
      "text/html": [
       "<div>\n",
       "<style scoped>\n",
       "    .dataframe tbody tr th:only-of-type {\n",
       "        vertical-align: middle;\n",
       "    }\n",
       "\n",
       "    .dataframe tbody tr th {\n",
       "        vertical-align: top;\n",
       "    }\n",
       "\n",
       "    .dataframe thead th {\n",
       "        text-align: right;\n",
       "    }\n",
       "</style>\n",
       "<table border=\"1\" class=\"dataframe\">\n",
       "  <thead>\n",
       "    <tr style=\"text-align: right;\">\n",
       "      <th></th>\n",
       "      <th>longitude</th>\n",
       "      <th>latitude</th>\n",
       "      <th>housing_median_age</th>\n",
       "      <th>total_rooms</th>\n",
       "      <th>total_bedrooms</th>\n",
       "      <th>population</th>\n",
       "      <th>households</th>\n",
       "      <th>median_income</th>\n",
       "      <th>ocean_proximity</th>\n",
       "      <th>median_house_value\\r</th>\n",
       "    </tr>\n",
       "  </thead>\n",
       "  <tbody>\n",
       "    <tr>\n",
       "      <th>0</th>\n",
       "      <td>-122.23</td>\n",
       "      <td>37.88</td>\n",
       "      <td>41</td>\n",
       "      <td>880</td>\n",
       "      <td>129.0</td>\n",
       "      <td>322</td>\n",
       "      <td>126</td>\n",
       "      <td>8.3252</td>\n",
       "      <td>NEAR BAY</td>\n",
       "      <td>452600</td>\n",
       "    </tr>\n",
       "    <tr>\n",
       "      <th>1</th>\n",
       "      <td>-122.22</td>\n",
       "      <td>37.86</td>\n",
       "      <td>21</td>\n",
       "      <td>7099</td>\n",
       "      <td>1106.0</td>\n",
       "      <td>2401</td>\n",
       "      <td>1138</td>\n",
       "      <td>8.3014</td>\n",
       "      <td>NEAR BAY</td>\n",
       "      <td>358500</td>\n",
       "    </tr>\n",
       "    <tr>\n",
       "      <th>2</th>\n",
       "      <td>-122.24</td>\n",
       "      <td>37.85</td>\n",
       "      <td>52</td>\n",
       "      <td>1467</td>\n",
       "      <td>190.0</td>\n",
       "      <td>496</td>\n",
       "      <td>177</td>\n",
       "      <td>7.2574</td>\n",
       "      <td>NEAR BAY</td>\n",
       "      <td>352100</td>\n",
       "    </tr>\n",
       "    <tr>\n",
       "      <th>3</th>\n",
       "      <td>-122.25</td>\n",
       "      <td>37.85</td>\n",
       "      <td>52</td>\n",
       "      <td>1274</td>\n",
       "      <td>235.0</td>\n",
       "      <td>558</td>\n",
       "      <td>219</td>\n",
       "      <td>5.6431</td>\n",
       "      <td>NEAR BAY</td>\n",
       "      <td>341300</td>\n",
       "    </tr>\n",
       "    <tr>\n",
       "      <th>4</th>\n",
       "      <td>-122.25</td>\n",
       "      <td>37.85</td>\n",
       "      <td>52</td>\n",
       "      <td>1627</td>\n",
       "      <td>280.0</td>\n",
       "      <td>565</td>\n",
       "      <td>259</td>\n",
       "      <td>3.8462</td>\n",
       "      <td>NEAR BAY</td>\n",
       "      <td>342200</td>\n",
       "    </tr>\n",
       "  </tbody>\n",
       "</table>\n",
       "</div>"
      ],
      "text/plain": [
       "   longitude  latitude  housing_median_age  total_rooms  total_bedrooms  \\\n",
       "0    -122.23     37.88                  41          880           129.0   \n",
       "1    -122.22     37.86                  21         7099          1106.0   \n",
       "2    -122.24     37.85                  52         1467           190.0   \n",
       "3    -122.25     37.85                  52         1274           235.0   \n",
       "4    -122.25     37.85                  52         1627           280.0   \n",
       "\n",
       "   population  households  median_income ocean_proximity  median_house_value\\r  \n",
       "0         322         126         8.3252        NEAR BAY                452600  \n",
       "1        2401        1138         8.3014        NEAR BAY                358500  \n",
       "2         496         177         7.2574        NEAR BAY                352100  \n",
       "3         558         219         5.6431        NEAR BAY                341300  \n",
       "4         565         259         3.8462        NEAR BAY                342200  "
      ]
     },
     "execution_count": 2,
     "metadata": {},
     "output_type": "execute_result"
    }
   ],
   "source": [
    "df = pd.read_csv('/Users/dhruv/Downloads/californiahousingdataset/housing.csv', lineterminator='\\n')\n",
    "df.head()"
   ]
  },
  {
   "cell_type": "code",
   "execution_count": 3,
   "metadata": {},
   "outputs": [],
   "source": [
    "df = df.fillna(0)\n",
    "\n",
    "df = df.rename(columns={'median_house_value\\r': 'median_house_value'})"
   ]
  },
  {
   "cell_type": "code",
   "execution_count": 4,
   "metadata": {},
   "outputs": [
    {
     "name": "stdout",
     "output_type": "stream",
     "text": [
      "longitude\n",
      "latitude\n",
      "housing_median_age\n",
      "total_rooms\n",
      "total_bedrooms\n",
      "population\n",
      "households\n",
      "median_income\n",
      "ocean_proximity\n",
      "median_house_value\n"
     ]
    }
   ],
   "source": [
    "for col in df.columns:\n",
    "    print(col)"
   ]
  },
  {
   "cell_type": "code",
   "execution_count": 5,
   "metadata": {},
   "outputs": [],
   "source": [
    "X = df.copy()\n",
    "X = X.drop('median_house_value', axis=1)\n",
    "\n",
    "y = df['median_house_value']\n",
    "\n",
    "preXTrain, preXTest, yTrain, yTest = train_test_split(X, y, test_size=0.2, random_state=1)\n",
    "\n",
    "preXTrain = preXTrain.reset_index(drop=True)\n",
    "yTrain = yTrain.reset_index(drop=True)\n",
    "preXTest = preXTest.reset_index(drop=True)\n",
    "yTest = yTest.reset_index(drop=True)"
   ]
  },
  {
   "cell_type": "code",
   "execution_count": 6,
   "metadata": {},
   "outputs": [
    {
     "name": "stdout",
     "output_type": "stream",
     "text": [
      "       longitude  latitude  housing_median_age  total_rooms  total_bedrooms  \\\n",
      "0        -122.43     37.71                  52         1410           286.0   \n",
      "1        -122.35     37.95                  42         1485           290.0   \n",
      "2        -121.24     37.90                  16           50            10.0   \n",
      "3        -118.35     34.02                  34         5218          1576.0   \n",
      "4        -118.39     33.89                  38         1851           332.0   \n",
      "...          ...       ...                 ...          ...             ...   \n",
      "16507    -117.88     33.76                  17         1768           474.0   \n",
      "16508    -119.63     34.42                  42         1765           263.0   \n",
      "16509    -118.26     33.93                  42         1433           295.0   \n",
      "16510    -117.16     33.73                  10         2381           454.0   \n",
      "16511    -122.20     37.79                  35         1802           459.0   \n",
      "\n",
      "       population  households  median_income  ocean_proximity  \n",
      "0             879         282         3.1908                3  \n",
      "1             971         303         3.6094                3  \n",
      "2              20           6         2.6250                1  \n",
      "3            3538        1371         1.5143                0  \n",
      "4             750         314         7.3356                0  \n",
      "...           ...         ...            ...              ...  \n",
      "16507        1079         436         1.7823                0  \n",
      "16508         753         260         8.5608                0  \n",
      "16509         775         293         1.1326                0  \n",
      "16510        1323         477         2.6322                1  \n",
      "16511        1009         390         2.3036                3  \n",
      "\n",
      "[16512 rows x 9 columns]\n"
     ]
    }
   ],
   "source": [
    "catCols = [col for col in X.columns if X[col].dtype == 'object' or X[col].dtype == 'datetime64[ns]']\n",
    "\n",
    "labelXTrain = preXTrain.copy()\n",
    "labelXTest = preXTest.copy()\n",
    "\n",
    "le = LabelEncoder()\n",
    "\n",
    "for col in catCols:\n",
    "    le.fit(labelXTrain[col])\n",
    "    \n",
    "    labelXTest[col] = labelXTest[col].map(lambda s: '<unknown>' if s not in le.classes_ else s)\n",
    "    \n",
    "    le.classes_ = np.append(le.classes_, '<unknown>')\n",
    "    \n",
    "    labelXTrain[col] = le.transform(labelXTrain[col])\n",
    "    labelXTest[col] = le.transform(labelXTest[col])\n",
    "    \n",
    "XTrain = labelXTrain.copy()\n",
    "XTest = labelXTest.copy()\n",
    "\n",
    "print(XTrain)"
   ]
  },
  {
   "cell_type": "code",
   "execution_count": 7,
   "metadata": {},
   "outputs": [],
   "source": [
    "model = RandomForestRegressor(n_estimators=40, random_state=0)\n",
    "model.fit(XTrain, yTrain)\n",
    "\n",
    "preds = model.predict(XTest)\n"
   ]
  },
  {
   "cell_type": "code",
   "execution_count": 8,
   "metadata": {},
   "outputs": [
    {
     "name": "stdout",
     "output_type": "stream",
     "text": [
      "       yTest       preds\n",
      "0     355000  323667.525\n",
      "1      70700   64500.000\n",
      "2     229400  247897.500\n",
      "3     112500  127665.025\n",
      "4     225400  259735.050\n",
      "...      ...         ...\n",
      "4123   68200   72985.000\n",
      "4124  225000  317942.525\n",
      "4125  350000  375387.600\n",
      "4126  227300  242980.000\n",
      "4127  141700  107650.000\n",
      "\n",
      "[4128 rows x 2 columns]\n"
     ]
    }
   ],
   "source": [
    "seriesPreds = pd.Series(preds)\n",
    "\n",
    "comparison = pd.concat([yTest, seriesPreds], axis=1)\n",
    "comparison.columns = ['yTest', 'preds']\n",
    "print(comparison)\n"
   ]
  },
  {
   "cell_type": "code",
   "execution_count": 9,
   "metadata": {},
   "outputs": [
    {
     "name": "stdout",
     "output_type": "stream",
     "text": [
      "MAE: 32157.727713178294\n",
      "RMSE: 49501.98657824563\n"
     ]
    }
   ],
   "source": [
    "print('MAE:', metrics.mean_absolute_error(yTest, preds))\n",
    "print('RMSE:', metrics.mean_squared_error(yTest, preds, squared=False))\n"
   ]
  },
  {
   "cell_type": "code",
   "execution_count": null,
   "metadata": {},
   "outputs": [],
   "source": []
  }
 ],
 "metadata": {
  "kernelspec": {
   "display_name": "Python 3",
   "language": "python",
   "name": "python3"
  },
  "language_info": {
   "codemirror_mode": {
    "name": "ipython",
    "version": 3
   },
   "file_extension": ".py",
   "mimetype": "text/x-python",
   "name": "python",
   "nbconvert_exporter": "python",
   "pygments_lexer": "ipython3",
   "version": "3.8.5"
  }
 },
 "nbformat": 4,
 "nbformat_minor": 4
}
