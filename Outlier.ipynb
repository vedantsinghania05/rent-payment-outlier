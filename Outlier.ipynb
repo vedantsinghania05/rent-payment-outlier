{
 "cells": [
  {
   "cell_type": "code",
   "execution_count": 1,
   "metadata": {},
   "outputs": [],
   "source": [
    "# Import packages\n",
    "\n",
    "import pandas as pd\n",
    "import matplotlib.pyplot as plt\n",
    "import math\n",
    "from datetime import datetime\n",
    "from sklearn.preprocessing import LabelEncoder\n",
    "from sklearn.model_selection import train_test_split\n",
    "from sklearn.ensemble import RandomForestRegressor\n",
    "from sklearn.metrics import mean_absolute_error\n",
    "from sklearn.tree import DecisionTreeClassifier"
   ]
  },
  {
   "cell_type": "code",
   "execution_count": 2,
   "metadata": {},
   "outputs": [
    {
     "data": {
      "text/html": [
       "<div>\n",
       "<style scoped>\n",
       "    .dataframe tbody tr th:only-of-type {\n",
       "        vertical-align: middle;\n",
       "    }\n",
       "\n",
       "    .dataframe tbody tr th {\n",
       "        vertical-align: top;\n",
       "    }\n",
       "\n",
       "    .dataframe thead th {\n",
       "        text-align: right;\n",
       "    }\n",
       "</style>\n",
       "<table border=\"1\" class=\"dataframe\">\n",
       "  <thead>\n",
       "    <tr style=\"text-align: right;\">\n",
       "      <th></th>\n",
       "      <th>GLCODE</th>\n",
       "      <th>GLNAME</th>\n",
       "      <th>PROPERTY</th>\n",
       "      <th>PROPERTYNAME</th>\n",
       "      <th>DATE</th>\n",
       "      <th>PERIOD</th>\n",
       "      <th>DESCRIPTION</th>\n",
       "      <th>CONTROL</th>\n",
       "      <th>REFERENCE</th>\n",
       "      <th>AMOUNT</th>\n",
       "      <th>DEBITCREDIT</th>\n",
       "      <th>BALANCE</th>\n",
       "      <th>REMARKS</th>\n",
       "    </tr>\n",
       "  </thead>\n",
       "  <tbody>\n",
       "    <tr>\n",
       "      <th>0</th>\n",
       "      <td>1110-0000</td>\n",
       "      <td>Cash</td>\n",
       "      <td>ap-mc11</td>\n",
       "      <td>4203 11TH LLC</td>\n",
       "      <td>09/09/2020</td>\n",
       "      <td>12/01/2020</td>\n",
       "      <td>Webster S8 (t0034597)</td>\n",
       "      <td>K-396581</td>\n",
       "      <td>165</td>\n",
       "      <td>8500.0</td>\n",
       "      <td>Credit</td>\n",
       "      <td>1813181.59</td>\n",
       "      <td>First buyout check</td>\n",
       "    </tr>\n",
       "    <tr>\n",
       "      <th>1</th>\n",
       "      <td>1110-0000</td>\n",
       "      <td>Cash</td>\n",
       "      <td>ap-mc11</td>\n",
       "      <td>4203 11TH LLC</td>\n",
       "      <td>09/29/2020</td>\n",
       "      <td>12/01/2020</td>\n",
       "      <td>Webster (t0034598)</td>\n",
       "      <td>K-405215</td>\n",
       "      <td>173</td>\n",
       "      <td>2500.0</td>\n",
       "      <td>Credit</td>\n",
       "      <td>1810681.59</td>\n",
       "      <td></td>\n",
       "    </tr>\n",
       "    <tr>\n",
       "      <th>2</th>\n",
       "      <td>1110-0000</td>\n",
       "      <td>Cash</td>\n",
       "      <td>ap-mc11</td>\n",
       "      <td>4203 11TH LLC</td>\n",
       "      <td>10/27/2020</td>\n",
       "      <td>12/01/2020</td>\n",
       "      <td>Webster S8 (t0034597)</td>\n",
       "      <td>K-417819</td>\n",
       "      <td>183</td>\n",
       "      <td>9100.0</td>\n",
       "      <td>Credit</td>\n",
       "      <td>1801581.59</td>\n",
       "      <td></td>\n",
       "    </tr>\n",
       "    <tr>\n",
       "      <th>3</th>\n",
       "      <td>1110-0000</td>\n",
       "      <td>Cash</td>\n",
       "      <td>ap-mc11</td>\n",
       "      <td>4203 11TH LLC</td>\n",
       "      <td>10/29/2020</td>\n",
       "      <td>12/01/2020</td>\n",
       "      <td>Jones (t0034602)</td>\n",
       "      <td>K-420897</td>\n",
       "      <td>187</td>\n",
       "      <td>3500.0</td>\n",
       "      <td>Credit</td>\n",
       "      <td>1798081.59</td>\n",
       "      <td>First Buyout Check</td>\n",
       "    </tr>\n",
       "    <tr>\n",
       "      <th>4</th>\n",
       "      <td>1110-0000</td>\n",
       "      <td>Cash</td>\n",
       "      <td>ap-mc11</td>\n",
       "      <td>4203 11TH LLC</td>\n",
       "      <td>11/02/2020</td>\n",
       "      <td>12/01/2020</td>\n",
       "      <td>Dow (t0034603)</td>\n",
       "      <td>K-421957</td>\n",
       "      <td>190</td>\n",
       "      <td>3500.0</td>\n",
       "      <td>Credit</td>\n",
       "      <td>1794581.59</td>\n",
       "      <td>First Buyout Check</td>\n",
       "    </tr>\n",
       "  </tbody>\n",
       "</table>\n",
       "</div>"
      ],
      "text/plain": [
       "      GLCODE  GLNAME  PROPERTY    PROPERTYNAME         DATE       PERIOD  \\\n",
       "0  1110-0000    Cash   ap-mc11   4203 11TH LLC   09/09/2020   12/01/2020   \n",
       "1  1110-0000    Cash   ap-mc11   4203 11TH LLC   09/29/2020   12/01/2020   \n",
       "2  1110-0000    Cash   ap-mc11   4203 11TH LLC   10/27/2020   12/01/2020   \n",
       "3  1110-0000    Cash   ap-mc11   4203 11TH LLC   10/29/2020   12/01/2020   \n",
       "4  1110-0000    Cash   ap-mc11   4203 11TH LLC   11/02/2020   12/01/2020   \n",
       "\n",
       "              DESCRIPTION    CONTROL  REFERENCE   AMOUNT  DEBITCREDIT  \\\n",
       "0   Webster S8 (t0034597)   K-396581        165   8500.0       Credit   \n",
       "1      Webster (t0034598)   K-405215        173   2500.0       Credit   \n",
       "2   Webster S8 (t0034597)   K-417819        183   9100.0       Credit   \n",
       "3        Jones (t0034602)   K-420897        187   3500.0       Credit   \n",
       "4          Dow (t0034603)   K-421957        190   3500.0       Credit   \n",
       "\n",
       "       BALANCE              REMARKS  \n",
       "0   1813181.59   First buyout check  \n",
       "1   1810681.59                       \n",
       "2   1801581.59                       \n",
       "3   1798081.59   First Buyout Check  \n",
       "4   1794581.59   First Buyout Check  "
      ]
     },
     "execution_count": 2,
     "metadata": {},
     "output_type": "execute_result"
    }
   ],
   "source": [
    "# Get data\n",
    "\n",
    "df = pd.read_csv('export_yardi_jourentline.csv', lineterminator='\\n')\n",
    "\n",
    "df = df.drop(columns=[' BUILDING', ' SPECIALCIRCUMSTANCE', ' USAGEAMOUNT', ' USAGETYPE', ' UNIT'])\n",
    "\n",
    "df.head()"
   ]
  },
  {
   "cell_type": "code",
   "execution_count": 3,
   "metadata": {},
   "outputs": [],
   "source": [
    "# Basic column manipulation\n",
    "\n",
    "df.columns = df.columns.map(lambda c: c.strip())\n",
    "\n",
    "df['DATE'] = df['DATE'].map(lambda d: datetime.strptime(d, ' %m/%d/%Y'))\n",
    "df['PERIOD'] = df['PERIOD'].map(lambda p: datetime.strptime(p, ' %m/%d/%Y'))\n",
    "\n",
    "df['AMOUNT'] = df['AMOUNT'].map(lambda a: math.ceil(a))"
   ]
  },
  {
   "cell_type": "code",
   "execution_count": 4,
   "metadata": {},
   "outputs": [],
   "source": [
    "# Find categorical columns\n",
    "\n",
    "catCols = [col for col in df.columns if df[col].dtype == 'object' or df[col].dtype == 'datetime64[ns]']"
   ]
  },
  {
   "cell_type": "code",
   "execution_count": 5,
   "metadata": {},
   "outputs": [
    {
     "name": "stdout",
     "output_type": "stream",
     "text": [
      "       GLCODE  GLNAME  PROPERTY  PROPERTYNAME  DATE  PERIOD  DESCRIPTION  \\\n",
      "0           0      27         0            25   147       0         1507   \n",
      "1           0      27         0            25   157       0         1506   \n",
      "2           0      27         0            25   174       0         1507   \n",
      "3           0      27         0            25   176       0          981   \n",
      "4           0      27         0            25   180       0          747   \n",
      "...       ...     ...       ...           ...   ...     ...          ...   \n",
      "96889     236     183        51            17   380       5          599   \n",
      "96890     237     167         4            14   365       5          522   \n",
      "96891     237     167        10             9   365       5          522   \n",
      "96892     237     167        36            44   294       5          522   \n",
      "96893     237     167        51            17   365       5          522   \n",
      "\n",
      "       CONTROL  REFERENCE  AMOUNT  DEBITCREDIT  BALANCE  REMARKS  \n",
      "0        11952       2765    8500            0    49636     2141  \n",
      "1        11953       2800    2500            0    49626        0  \n",
      "2        11954       2835    9100            0    49544        0  \n",
      "3        11955       2842    3500            0    49515     2137  \n",
      "4        11956       2850    3500            0    49436     2137  \n",
      "...        ...        ...     ...          ...      ...      ...  \n",
      "96889    20818       2315    9940            0    66518     4029  \n",
      "96890    20497       3024    2712            1    55025     3047  \n",
      "96891    20499       3025     350            1    57519     3047  \n",
      "96892    20500       3020    3803            1    67121     3047  \n",
      "96893    20498       3021     175            1    67156     3047  \n",
      "\n",
      "[96894 rows x 13 columns]\n"
     ]
    }
   ],
   "source": [
    "# Label encode dataset\n",
    "\n",
    "labelDf = df.copy()\n",
    "\n",
    "labelEncoder = LabelEncoder()\n",
    "\n",
    "for col in catCols:\n",
    "    labelDf[col] = labelEncoder.fit_transform(df[col])\n",
    "    \n",
    "df = labelDf.copy()\n",
    "print(df)"
   ]
  },
  {
   "cell_type": "code",
   "execution_count": 6,
   "metadata": {},
   "outputs": [
    {
     "name": "stdout",
     "output_type": "stream",
     "text": [
      "       GLCODE  GLNAME  PROPERTY  PROPERTYNAME  DATE  PERIOD  DESCRIPTION  \\\n",
      "0          49     126        42             4   325       4          780   \n",
      "1          81     119        35             1   234       0           13   \n",
      "2           0      27        42             4   206       0          883   \n",
      "3         215     215        33            26   218       0          509   \n",
      "4          49     126        20            31   266       2          558   \n",
      "...       ...     ...       ...           ...   ...     ...          ...   \n",
      "77510       9       3        37            49   296       3         1222   \n",
      "77511      46       1        37            49   354       4         1300   \n",
      "77512      81     119        31            39   293       2           13   \n",
      "77513       0      27        20            31   253       1          548   \n",
      "77514      91     133        31            39   325       4          773   \n",
      "\n",
      "       CONTROL  REFERENCE  DEBITCREDIT  BALANCE  REMARKS  \n",
      "0        20137        966            0    11444      604  \n",
      "1        10229          0            1    34330     2412  \n",
      "2        21313       5073            1    50272     1953  \n",
      "3        17040       2433            1    66631     4421  \n",
      "4        18518        535            0     8387      308  \n",
      "...        ...        ...          ...      ...      ...  \n",
      "77510    24142       5733            0    39030     3118  \n",
      "77511    19549       7059            0    26588     3069  \n",
      "77512    10956          0            1    39239     2412  \n",
      "77513    22545          0            1    53944     1723  \n",
      "77514     6805       6373            0    30991     3889  \n",
      "\n",
      "[77515 rows x 12 columns]\n"
     ]
    }
   ],
   "source": [
    "# Define X and y for testing, and split\n",
    "\n",
    "X = df.copy()\n",
    "X = X.drop(['AMOUNT'], axis=1)\n",
    "y = df['AMOUNT'].copy()\n",
    "\n",
    "XTrain, XTest, yTrain, yTest = train_test_split(X, y, test_size=0.2, random_state=1)\n",
    "\n",
    "XTrain = XTrain.reset_index(drop=True)\n",
    "yTrain = yTrain.reset_index(drop=True)\n",
    "XTest = XTest.reset_index(drop=True)\n",
    "yTest = yTest.reset_index(drop=True)\n",
    "print(XTrain)"
   ]
  },
  {
   "cell_type": "code",
   "execution_count": 7,
   "metadata": {
    "scrolled": true
   },
   "outputs": [],
   "source": [
    "# Fit/predict model\n",
    "\n",
    "model = RandomForestRegressor(n_estimators=1000)\n",
    "model.fit(XTrain, yTrain)\n",
    "\n",
    "preds = model.predict(XTest)"
   ]
  },
  {
   "cell_type": "code",
   "execution_count": 8,
   "metadata": {},
   "outputs": [],
   "source": [
    "# Define scoring func. for regressor\n",
    "\n",
    "def score(predictions, values):\n",
    "    \n",
    "    totalPercentOff = 0\n",
    "    \n",
    "    for i in range(0, len(predictions)):\n",
    "        \n",
    "        pred = predictions[i]\n",
    "        v = values[i]\n",
    "        \n",
    "        difference = abs(pred - v)\n",
    "        percentOff = difference * (100/v)\n",
    "        #print(percentOff)\n",
    "        \n",
    "        totalPercentOff += percentOff\n",
    "        \n",
    "    avgPercentOff = totalPercentOff / len(predictions)\n",
    "    print(avgPercentOff)\n",
    "        "
   ]
  },
  {
   "cell_type": "code",
   "execution_count": 9,
   "metadata": {
    "scrolled": true
   },
   "outputs": [
    {
     "name": "stdout",
     "output_type": "stream",
     "text": [
      "3604.251250938953\n"
     ]
    }
   ],
   "source": [
    "# Score test model\n",
    "\n",
    "score(preds, yTest)\n"
   ]
  },
  {
   "cell_type": "code",
   "execution_count": 10,
   "metadata": {},
   "outputs": [],
   "source": [
    "# Define outliers func.\n",
    "\n",
    "def findOutliers(predictions, values):\n",
    "\n",
    "    outlierIndexes = []\n",
    "    inlierIndexes = []\n",
    "\n",
    "    for i in range(0,len(predictions)):\n",
    "\n",
    "        pred = predictions[i]\n",
    "        v = values[i]\n",
    "\n",
    "        if abs(pred - v) > pred/100:\n",
    "            outlierIndexes.append(i)\n",
    "        else:\n",
    "            inlierIndexes.append(i)\n",
    "\n",
    "    return outlierIndexes"
   ]
  },
  {
   "cell_type": "code",
   "execution_count": 11,
   "metadata": {},
   "outputs": [
    {
     "name": "stdout",
     "output_type": "stream",
     "text": [
      "15889\n"
     ]
    }
   ],
   "source": [
    "# Find outliers for test model\n",
    "\n",
    "testOutliers = findOutliers(preds, yTest)\n",
    "\n",
    "print(len(testOutliers))"
   ]
  },
  {
   "cell_type": "code",
   "execution_count": 12,
   "metadata": {},
   "outputs": [],
   "source": [
    "# Concat train and test into full data\n",
    "\n",
    "XFull = pd.concat([XTrain, XTest])\n",
    "yFull = pd.concat([yTrain, yTest])\n",
    "\n",
    "fullPreds = model.predict(XFull)"
   ]
  },
  {
   "cell_type": "code",
   "execution_count": 13,
   "metadata": {},
   "outputs": [],
   "source": [
    "# Convert Series to List\n",
    "\n",
    "fullPredsList = list(fullPreds)\n",
    "yFullList = list(yFull)\n"
   ]
  },
  {
   "cell_type": "code",
   "execution_count": 14,
   "metadata": {},
   "outputs": [
    {
     "name": "stdout",
     "output_type": "stream",
     "text": [
      "1677.9177425458145\n"
     ]
    }
   ],
   "source": [
    "# Score model\n",
    "\n",
    "score(fullPreds, yFullList)"
   ]
  },
  {
   "cell_type": "code",
   "execution_count": 15,
   "metadata": {
    "scrolled": true
   },
   "outputs": [
    {
     "name": "stdout",
     "output_type": "stream",
     "text": [
      "73848\n"
     ]
    }
   ],
   "source": [
    "# Find outliers for model\n",
    "\n",
    "fullOutliers = findOutliers(fullPreds, yFullList)\n",
    "\n",
    "print(len(fullOutliers))"
   ]
  },
  {
   "cell_type": "code",
   "execution_count": 16,
   "metadata": {},
   "outputs": [
    {
     "name": "stdout",
     "output_type": "stream",
     "text": [
      "73848\n",
      "       GLCODE  GLNAME  PROPERTY  PROPERTYNAME  DATE  PERIOD  DESCRIPTION  \\\n",
      "0           0      27         0            25   147       0         1507   \n",
      "1           0      27         0            25   157       0         1506   \n",
      "2           0      27         0            25   174       0         1507   \n",
      "3           0      27         0            25   176       0          981   \n",
      "4           0      27         0            25   180       0          747   \n",
      "...       ...     ...       ...           ...   ...     ...          ...   \n",
      "96889     236     183        51            17   380       5          599   \n",
      "96890     237     167         4            14   365       5          522   \n",
      "96891     237     167        10             9   365       5          522   \n",
      "96892     237     167        36            44   294       5          522   \n",
      "96893     237     167        51            17   365       5          522   \n",
      "\n",
      "       CONTROL  REFERENCE  AMOUNT  DEBITCREDIT  BALANCE  REMARKS  OUTLIER  \n",
      "0        11952       2765    8500            0    49636     2141        1  \n",
      "1        11953       2800    2500            0    49626        0        1  \n",
      "2        11954       2835    9100            0    49544        0        1  \n",
      "3        11955       2842    3500            0    49515     2137        1  \n",
      "4        11956       2850    3500            0    49436     2137        1  \n",
      "...        ...        ...     ...          ...      ...      ...      ...  \n",
      "96889    20818       2315    9940            0    66518     4029        1  \n",
      "96890    20497       3024    2712            1    55025     3047        1  \n",
      "96891    20499       3025     350            1    57519     3047        1  \n",
      "96892    20500       3020    3803            1    67121     3047        1  \n",
      "96893    20498       3021     175            1    67156     3047        1  \n",
      "\n",
      "[96894 rows x 14 columns]\n"
     ]
    }
   ],
   "source": [
    "# Label data\n",
    "\n",
    "labeledDf = df.copy()\n",
    "\n",
    "outlierBoolList = []\n",
    "\n",
    "for i in range(0, len(labeledDf)):\n",
    "    \n",
    "    valueCount = fullOutliers.count(i)\n",
    "    \n",
    "    if valueCount > 0:\n",
    "        outlierBoolList.append(1)\n",
    "        #print(fullPreds[i], yFullList[i])\n",
    "    else:\n",
    "        outlierBoolList.append(0)\n",
    "        #print(fullPreds[i], yFullList[i])\n",
    "        \n",
    "\n",
    "labeledDf['OUTLIER'] = outlierBoolList  \n",
    "\n",
    "print(len([x for x in labeledDf['OUTLIER'] if x == 1]))\n",
    "print(labeledDf)\n",
    "    "
   ]
  },
  {
   "cell_type": "code",
   "execution_count": 17,
   "metadata": {},
   "outputs": [],
   "source": [
    "# Define cX and cy for testing, and split\n",
    "\n",
    "cX = labeledDf.copy()\n",
    "cX = cX.drop(['OUTLIER'], axis=1)\n",
    "\n",
    "cy = labeledDf['OUTLIER']\n",
    "\n",
    "cXTrain, cXTest, cyTrain, cyTest = train_test_split(cX, cy, test_size=0.2, random_state=1)"
   ]
  },
  {
   "cell_type": "code",
   "execution_count": 18,
   "metadata": {},
   "outputs": [],
   "source": [
    "# Fit/predict cModel\n",
    "\n",
    "cModel = DecisionTreeClassifier(random_state=0)\n",
    "cModel.fit(cXTrain, cyTrain)\n",
    "\n",
    "cPreds = cModel.predict(cXTest)"
   ]
  },
  {
   "cell_type": "code",
   "execution_count": 19,
   "metadata": {},
   "outputs": [],
   "source": [
    "# Convert Series to List\n",
    "\n",
    "cPredsList = list(cPreds)\n",
    "cyTestList = list(cyTest)\n"
   ]
  },
  {
   "cell_type": "code",
   "execution_count": 20,
   "metadata": {},
   "outputs": [],
   "source": [
    "# Define scoring func. for classifier\n",
    "\n",
    "def cScore(predictions, values):\n",
    "    \n",
    "    correctIndexes = []\n",
    "    incorrectIndexes = []\n",
    "    \n",
    "    for i in range(0, len(predictions)):\n",
    "        \n",
    "        prediction = int(predictions[i])\n",
    "        value = int(values[i])\n",
    "        \n",
    "        if prediction == value:\n",
    "            correctIndexes.append(i)\n",
    "        else:\n",
    "            incorrectIndexes.append(i)\n",
    "            \n",
    "    numCorrect = len(correctIndexes)\n",
    "    numIncorrect = len(incorrectIndexes)\n",
    "    \n",
    "    percentCorrect = round(numCorrect * (100/len(predictions)))\n",
    "    print(percentCorrect, '%')\n",
    "    "
   ]
  },
  {
   "cell_type": "code",
   "execution_count": 21,
   "metadata": {},
   "outputs": [
    {
     "name": "stdout",
     "output_type": "stream",
     "text": [
      "63 %\n"
     ]
    }
   ],
   "source": [
    "# Score classifier\n",
    "\n",
    "cScore(cPredsList, cyTestList)"
   ]
  }
 ],
 "metadata": {
  "kernelspec": {
   "display_name": "Python 3",
   "language": "python",
   "name": "python3"
  },
  "language_info": {
   "codemirror_mode": {
    "name": "ipython",
    "version": 3
   },
   "file_extension": ".py",
   "mimetype": "text/x-python",
   "name": "python",
   "nbconvert_exporter": "python",
   "pygments_lexer": "ipython3",
   "version": "3.8.5"
  }
 },
 "nbformat": 4,
 "nbformat_minor": 4
}
