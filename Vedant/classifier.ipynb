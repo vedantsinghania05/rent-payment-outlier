{
 "cells": [
  {
   "cell_type": "code",
   "execution_count": 1,
   "source": [
    "import pandas as pd\n",
    "from sklearn.model_selection import train_test_split\n",
    "from sklearn.neighbors import KNeighborsClassifier"
   ],
   "outputs": [],
   "metadata": {}
  },
  {
   "cell_type": "code",
   "execution_count": 2,
   "source": [
    "df = pd.read_csv('/Users/vedantsinghania/code/labeled.csv')\n",
    "df.head()"
   ],
   "outputs": [
    {
     "output_type": "execute_result",
     "data": {
      "text/plain": [
       "   GLCODE  GLNAME  PROPERTY  PROPERTYNAME  UNIT  DESCRIPTION  REFERENCE  \\\n",
       "0       0      26        25            29   117         1115       7163   \n",
       "1       0      26        24            37    56         1005       2998   \n",
       "2       0      26         6            41   287         1534       3110   \n",
       "3      48     158        52            53     0         1118       4677   \n",
       "4      44       0        50            15     0          651       2969   \n",
       "\n",
       "   DEBITCREDIT  REMARKS  DATEDAY  DATEMO  PERIODDAY  PERIODMO  AMOUNT  OUTLIER  \n",
       "0            0     1570        1       1          1         1     177        1  \n",
       "1            0      924       30       3          1         3     175        1  \n",
       "2            1     1460        3      12          1        12       4        1  \n",
       "3            0     1460        1       3          1         3     863        0  \n",
       "4            1     1458        5       4          1         4     641        1  "
      ],
      "text/html": [
       "<div>\n",
       "<style scoped>\n",
       "    .dataframe tbody tr th:only-of-type {\n",
       "        vertical-align: middle;\n",
       "    }\n",
       "\n",
       "    .dataframe tbody tr th {\n",
       "        vertical-align: top;\n",
       "    }\n",
       "\n",
       "    .dataframe thead th {\n",
       "        text-align: right;\n",
       "    }\n",
       "</style>\n",
       "<table border=\"1\" class=\"dataframe\">\n",
       "  <thead>\n",
       "    <tr style=\"text-align: right;\">\n",
       "      <th></th>\n",
       "      <th>GLCODE</th>\n",
       "      <th>GLNAME</th>\n",
       "      <th>PROPERTY</th>\n",
       "      <th>PROPERTYNAME</th>\n",
       "      <th>UNIT</th>\n",
       "      <th>DESCRIPTION</th>\n",
       "      <th>REFERENCE</th>\n",
       "      <th>DEBITCREDIT</th>\n",
       "      <th>REMARKS</th>\n",
       "      <th>DATEDAY</th>\n",
       "      <th>DATEMO</th>\n",
       "      <th>PERIODDAY</th>\n",
       "      <th>PERIODMO</th>\n",
       "      <th>AMOUNT</th>\n",
       "      <th>OUTLIER</th>\n",
       "    </tr>\n",
       "  </thead>\n",
       "  <tbody>\n",
       "    <tr>\n",
       "      <th>0</th>\n",
       "      <td>0</td>\n",
       "      <td>26</td>\n",
       "      <td>25</td>\n",
       "      <td>29</td>\n",
       "      <td>117</td>\n",
       "      <td>1115</td>\n",
       "      <td>7163</td>\n",
       "      <td>0</td>\n",
       "      <td>1570</td>\n",
       "      <td>1</td>\n",
       "      <td>1</td>\n",
       "      <td>1</td>\n",
       "      <td>1</td>\n",
       "      <td>177</td>\n",
       "      <td>1</td>\n",
       "    </tr>\n",
       "    <tr>\n",
       "      <th>1</th>\n",
       "      <td>0</td>\n",
       "      <td>26</td>\n",
       "      <td>24</td>\n",
       "      <td>37</td>\n",
       "      <td>56</td>\n",
       "      <td>1005</td>\n",
       "      <td>2998</td>\n",
       "      <td>0</td>\n",
       "      <td>924</td>\n",
       "      <td>30</td>\n",
       "      <td>3</td>\n",
       "      <td>1</td>\n",
       "      <td>3</td>\n",
       "      <td>175</td>\n",
       "      <td>1</td>\n",
       "    </tr>\n",
       "    <tr>\n",
       "      <th>2</th>\n",
       "      <td>0</td>\n",
       "      <td>26</td>\n",
       "      <td>6</td>\n",
       "      <td>41</td>\n",
       "      <td>287</td>\n",
       "      <td>1534</td>\n",
       "      <td>3110</td>\n",
       "      <td>1</td>\n",
       "      <td>1460</td>\n",
       "      <td>3</td>\n",
       "      <td>12</td>\n",
       "      <td>1</td>\n",
       "      <td>12</td>\n",
       "      <td>4</td>\n",
       "      <td>1</td>\n",
       "    </tr>\n",
       "    <tr>\n",
       "      <th>3</th>\n",
       "      <td>48</td>\n",
       "      <td>158</td>\n",
       "      <td>52</td>\n",
       "      <td>53</td>\n",
       "      <td>0</td>\n",
       "      <td>1118</td>\n",
       "      <td>4677</td>\n",
       "      <td>0</td>\n",
       "      <td>1460</td>\n",
       "      <td>1</td>\n",
       "      <td>3</td>\n",
       "      <td>1</td>\n",
       "      <td>3</td>\n",
       "      <td>863</td>\n",
       "      <td>0</td>\n",
       "    </tr>\n",
       "    <tr>\n",
       "      <th>4</th>\n",
       "      <td>44</td>\n",
       "      <td>0</td>\n",
       "      <td>50</td>\n",
       "      <td>15</td>\n",
       "      <td>0</td>\n",
       "      <td>651</td>\n",
       "      <td>2969</td>\n",
       "      <td>1</td>\n",
       "      <td>1458</td>\n",
       "      <td>5</td>\n",
       "      <td>4</td>\n",
       "      <td>1</td>\n",
       "      <td>4</td>\n",
       "      <td>641</td>\n",
       "      <td>1</td>\n",
       "    </tr>\n",
       "  </tbody>\n",
       "</table>\n",
       "</div>"
      ]
     },
     "metadata": {},
     "execution_count": 2
    }
   ],
   "metadata": {}
  },
  {
   "cell_type": "code",
   "execution_count": 3,
   "source": [
    "X = df.copy()\n",
    "y = df['OUTLIER'].copy()\n",
    "\n",
    "X = X.drop(['OUTLIER'], axis=1)"
   ],
   "outputs": [],
   "metadata": {}
  },
  {
   "cell_type": "code",
   "execution_count": 4,
   "source": [
    "X_train, X_test, y_train, y_test = train_test_split(X, y, test_size=0.15, random_state=1)\n",
    "\n",
    "X_train = X_train.reset_index(drop=True)\n",
    "X_test = X_test.reset_index(drop=True)\n",
    "\n",
    "y_train = y_train.reset_index(drop=True)\n",
    "y_test = y_test.reset_index(drop=True)"
   ],
   "outputs": [],
   "metadata": {}
  },
  {
   "cell_type": "code",
   "execution_count": 5,
   "source": [
    "clf = KNeighborsClassifier(n_jobs=-1, n_neighbors=1)\n",
    "clf.fit(X_train, y_train)\n",
    "y_pred = clf.predict(X_test)"
   ],
   "outputs": [],
   "metadata": {}
  },
  {
   "cell_type": "code",
   "execution_count": 7,
   "source": [
    "score = 0\n",
    "\n",
    "for i in range(0, len(y_pred)):\n",
    "    if y_pred[i] == y_test[i]:\n",
    "        score += 1\n",
    "\n",
    "percent_correct = score/len(y_pred)*100\n",
    "print(\"Score: {}%\".format(round(percent_correct, 3)))\n",
    "print(pd.Series(y_pred).value_counts())"
   ],
   "outputs": [
    {
     "output_type": "stream",
     "name": "stdout",
     "text": [
      "Score: 86.646%\n"
     ]
    }
   ],
   "metadata": {}
  }
 ],
 "metadata": {
  "orig_nbformat": 4,
  "language_info": {
   "name": "python",
   "version": "3.9.1",
   "mimetype": "text/x-python",
   "codemirror_mode": {
    "name": "ipython",
    "version": 3
   },
   "pygments_lexer": "ipython3",
   "nbconvert_exporter": "python",
   "file_extension": ".py"
  },
  "kernelspec": {
   "name": "python3",
   "display_name": "Python 3.9.1 64-bit ('base': conda)"
  },
  "interpreter": {
   "hash": "8f3d51fb19853af6368dc9299474481b25156f8addc2cbbbeca9ac987390f897"
  }
 },
 "nbformat": 4,
 "nbformat_minor": 2
}