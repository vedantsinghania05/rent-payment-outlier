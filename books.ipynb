{
 "cells": [
  {
   "cell_type": "code",
   "execution_count": 79,
   "metadata": {},
   "outputs": [],
   "source": [
    "import pandas as pd\n",
    "from sklearn.model_selection import train_test_split\n",
    "import math"
   ]
  },
  {
   "cell_type": "code",
   "execution_count": 80,
   "metadata": {
    "tags": []
   },
   "outputs": [
    {
     "output_type": "execute_result",
     "data": {
      "text/plain": [
       "                                                   title  \\\n",
       "30629                                          Slow Ride   \n",
       "11607                                            Mox Nox   \n",
       "13932                                        Consolation   \n",
       "11964  Moral Tribes: Emotion, Reason, and the Gap Bet...   \n",
       "25372  The Complete Clive Barker's The Great And Secr...   \n",
       "\n",
       "                                            series  \\\n",
       "30629                          (Rough Riders #9.5)   \n",
       "11607                                          NaN   \n",
       "13932                               (Salvation #3)   \n",
       "11964                                          NaN   \n",
       "25372  (Clive Barker's The Great And Secret Show )   \n",
       "\n",
       "                                              author  average_rating  \\\n",
       "30629                                  Lorelei James            3.89   \n",
       "11607                                 Joan CornellÃ             4.00   \n",
       "13932                               Corinne Michaels            4.36   \n",
       "11964                               Joshua D. Greene            4.03   \n",
       "25372  Chris Ryall, Gabriel RodrÃ­guez, Clive Barker            4.23   \n",
       "\n",
       "       number_of_pages     date_published  \\\n",
       "30629             37.0  November 9th 2010   \n",
       "11607             56.0               2013   \n",
       "13932            302.0    March 18th 2015   \n",
       "11964            432.0  October 31st 2013   \n",
       "25372            136.0               1989   \n",
       "\n",
       "                                         genre_and_votes  \\\n",
       "30629  Romance 230, Westerns 154, Adult Fiction-Eroti...   \n",
       "11607  Sequential Art-Comics 27, Sequential Art-Graph...   \n",
       "13932  Romance 284, War-Military Fiction 167, Romance...   \n",
       "11964  Psychology 257, Nonfiction 197, Philosophy 166...   \n",
       "25372  Horror 176, Fantasy 74, Sequential Art-Graphic...   \n",
       "\n",
       "                      settings  \\\n",
       "30629                      NaN   \n",
       "11607                      NaN   \n",
       "13932  Virginia(United States)   \n",
       "11964                      NaN   \n",
       "25372                      NaN   \n",
       "\n",
       "                                       recommended_books  \\\n",
       "30629  1066038, 1066038, 53341745, 18271357, 53341762...   \n",
       "11607  18528240, 18528240, 25664507, 210946, 8793349,...   \n",
       "13932  40550201, 40550201, 52912810, 50668664, 536021...   \n",
       "11964  25761655, 25761655, 17380034, 11324722, 172372...   \n",
       "25372  52629, 52629, 399477, 32628, 34605, 543154, 32...   \n",
       "\n",
       "                                         books_in_series  \n",
       "30629  25185716, 2345511, 25239147, 3654380, 27809980...  \n",
       "11607                                                NaN  \n",
       "13932  28961690, 28961761, 24241524, 27812784, 252590...  \n",
       "11964                                                NaN  \n",
       "25372                                              34872  "
      ],
      "text/html": "<div>\n<style scoped>\n    .dataframe tbody tr th:only-of-type {\n        vertical-align: middle;\n    }\n\n    .dataframe tbody tr th {\n        vertical-align: top;\n    }\n\n    .dataframe thead th {\n        text-align: right;\n    }\n</style>\n<table border=\"1\" class=\"dataframe\">\n  <thead>\n    <tr style=\"text-align: right;\">\n      <th></th>\n      <th>title</th>\n      <th>series</th>\n      <th>author</th>\n      <th>average_rating</th>\n      <th>number_of_pages</th>\n      <th>date_published</th>\n      <th>genre_and_votes</th>\n      <th>settings</th>\n      <th>recommended_books</th>\n      <th>books_in_series</th>\n    </tr>\n  </thead>\n  <tbody>\n    <tr>\n      <th>30629</th>\n      <td>Slow Ride</td>\n      <td>(Rough Riders #9.5)</td>\n      <td>Lorelei James</td>\n      <td>3.89</td>\n      <td>37.0</td>\n      <td>November 9th 2010</td>\n      <td>Romance 230, Westerns 154, Adult Fiction-Eroti...</td>\n      <td>NaN</td>\n      <td>1066038, 1066038, 53341745, 18271357, 53341762...</td>\n      <td>25185716, 2345511, 25239147, 3654380, 27809980...</td>\n    </tr>\n    <tr>\n      <th>11607</th>\n      <td>Mox Nox</td>\n      <td>NaN</td>\n      <td>Joan CornellÃ</td>\n      <td>4.00</td>\n      <td>56.0</td>\n      <td>2013</td>\n      <td>Sequential Art-Comics 27, Sequential Art-Graph...</td>\n      <td>NaN</td>\n      <td>18528240, 18528240, 25664507, 210946, 8793349,...</td>\n      <td>NaN</td>\n    </tr>\n    <tr>\n      <th>13932</th>\n      <td>Consolation</td>\n      <td>(Salvation #3)</td>\n      <td>Corinne Michaels</td>\n      <td>4.36</td>\n      <td>302.0</td>\n      <td>March 18th 2015</td>\n      <td>Romance 284, War-Military Fiction 167, Romance...</td>\n      <td>Virginia(United States)</td>\n      <td>40550201, 40550201, 52912810, 50668664, 536021...</td>\n      <td>28961690, 28961761, 24241524, 27812784, 252590...</td>\n    </tr>\n    <tr>\n      <th>11964</th>\n      <td>Moral Tribes: Emotion, Reason, and the Gap Bet...</td>\n      <td>NaN</td>\n      <td>Joshua D. Greene</td>\n      <td>4.03</td>\n      <td>432.0</td>\n      <td>October 31st 2013</td>\n      <td>Psychology 257, Nonfiction 197, Philosophy 166...</td>\n      <td>NaN</td>\n      <td>25761655, 25761655, 17380034, 11324722, 172372...</td>\n      <td>NaN</td>\n    </tr>\n    <tr>\n      <th>25372</th>\n      <td>The Complete Clive Barker's The Great And Secr...</td>\n      <td>(Clive Barker's The Great And Secret Show )</td>\n      <td>Chris Ryall, Gabriel RodrÃ­guez, Clive Barker</td>\n      <td>4.23</td>\n      <td>136.0</td>\n      <td>1989</td>\n      <td>Horror 176, Fantasy 74, Sequential Art-Graphic...</td>\n      <td>NaN</td>\n      <td>52629, 52629, 399477, 32628, 34605, 543154, 32...</td>\n      <td>34872</td>\n    </tr>\n  </tbody>\n</table>\n</div>"
     },
     "metadata": {},
     "execution_count": 80
    }
   ],
   "source": [
    "full_data = pd.read_csv(\"goodreads_books.csv\")\n",
    "full_data.fillna(0) #TEMPORARY\n",
    "\n",
    "# 0: unread\n",
    "# 1: liked\n",
    "# 2: disliked\n",
    "\n",
    "# Class A: average_rating, number_of_pages, date_published (only year), 1-5 star ratings\n",
    "# Class B: genre_and_votes, author, \n",
    "# Class C: recommended_books, books_in_series,\n",
    "\n",
    "features = [    'author', 'average_rating', 'five_star_ratings', \n",
    "                'four_star_ratings', 'three_star_ratings', 'two_star_ratings',\n",
    "                'one_star_ratings', 'number_of_pages', \n",
    "                'date_published', 'genre_and_votes'     ]\n",
    "\n",
    "X = full_data[features].copy()\n",
    "\n",
    "for bookIndex in X.index:\n",
    "    bookGenres = X['genre_and_votes'][bookIndex]\n",
    "    if str(bookGenres) != 'nan':\n",
    "        genreList = bookGenres.split(', ')\n",
    "        topGenre = genreList[0]\n",
    "\n",
    "        finalGenre = ''\n",
    "        for char in topGenre:\n",
    "            if char.isalpha():\n",
    "                finalGenre += char\n",
    "\n",
    "\n",
    "y = full_data.rating\n",
    "X_unread, X_read, y_unread, y_read = train_test_split(X, y, train_size = 0.997, test_size = 0.003, random_state = 0)\n",
    "X_unread.head()\n"
   ]
  }
 ],
 "metadata": {
  "kernelspec": {
   "display_name": "Python 3",
   "language": "python",
   "name": "python3"
  },
  "language_info": {
   "codemirror_mode": {
    "name": "ipython",
    "version": 3
   },
   "file_extension": ".py",
   "mimetype": "text/x-python",
   "name": "python",
   "nbconvert_exporter": "python",
   "pygments_lexer": "ipython3",
   "version": "3.8.5-final"
  },
  "orig_nbformat": 2
 },
 "nbformat": 4,
 "nbformat_minor": 2
}