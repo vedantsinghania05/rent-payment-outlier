{
 "cells": [
  {
   "cell_type": "code",
   "execution_count": 40,
   "metadata": {},
   "outputs": [],
   "source": [
    "import pandas as pd\n",
    "import seaborn as sns\n",
    "import numpy as np\n",
    "import matplotlib.pyplot as plt\n",
    "from sklearn.preprocessing import LabelEncoder\n",
    "from sklearn.cluster import DBSCAN\n",
    "from sklearn.neighbors import NearestNeighbors"
   ]
  },
  {
   "cell_type": "code",
   "execution_count": 41,
   "metadata": {},
   "outputs": [
    {
     "data": {
      "text/html": [
       "<div>\n",
       "<style scoped>\n",
       "    .dataframe tbody tr th:only-of-type {\n",
       "        vertical-align: middle;\n",
       "    }\n",
       "\n",
       "    .dataframe tbody tr th {\n",
       "        vertical-align: top;\n",
       "    }\n",
       "\n",
       "    .dataframe thead th {\n",
       "        text-align: right;\n",
       "    }\n",
       "</style>\n",
       "<table border=\"1\" class=\"dataframe\">\n",
       "  <thead>\n",
       "    <tr style=\"text-align: right;\">\n",
       "      <th></th>\n",
       "      <th>GLCODE</th>\n",
       "      <th>GLNAME</th>\n",
       "      <th>PROPERTY</th>\n",
       "      <th>PROPERTYNAME</th>\n",
       "      <th>UNIT</th>\n",
       "      <th>BUILDING</th>\n",
       "      <th>SPECIALCIRCUMSTANCE</th>\n",
       "      <th>USAGEAMOUNT</th>\n",
       "      <th>USAGETYPE</th>\n",
       "      <th>DATE</th>\n",
       "      <th>PERIOD</th>\n",
       "      <th>DESCRIPTION</th>\n",
       "      <th>CONTROL</th>\n",
       "      <th>REFERENCE</th>\n",
       "      <th>AMOUNT</th>\n",
       "      <th>DEBITCREDIT</th>\n",
       "      <th>BALANCE</th>\n",
       "      <th>REMARKS</th>\n",
       "    </tr>\n",
       "  </thead>\n",
       "  <tbody>\n",
       "    <tr>\n",
       "      <th>0</th>\n",
       "      <td>1110-0000</td>\n",
       "      <td>Cash</td>\n",
       "      <td>ap-mc11</td>\n",
       "      <td>4203 11TH LLC</td>\n",
       "      <td>42031</td>\n",
       "      <td></td>\n",
       "      <td></td>\n",
       "      <td></td>\n",
       "      <td></td>\n",
       "      <td>09/09/2020</td>\n",
       "      <td>12/01/2020</td>\n",
       "      <td>Webster S8 (t0034597)</td>\n",
       "      <td>K-396581</td>\n",
       "      <td>165</td>\n",
       "      <td>8500.00</td>\n",
       "      <td>Credit</td>\n",
       "      <td>1813181.59</td>\n",
       "      <td>First buyout check</td>\n",
       "    </tr>\n",
       "    <tr>\n",
       "      <th>1</th>\n",
       "      <td>1110-0000</td>\n",
       "      <td>Cash</td>\n",
       "      <td>ap-mc11</td>\n",
       "      <td>4203 11TH LLC</td>\n",
       "      <td>42032</td>\n",
       "      <td></td>\n",
       "      <td></td>\n",
       "      <td></td>\n",
       "      <td></td>\n",
       "      <td>09/29/2020</td>\n",
       "      <td>12/01/2020</td>\n",
       "      <td>Webster (t0034598)</td>\n",
       "      <td>K-405215</td>\n",
       "      <td>173</td>\n",
       "      <td>2500.00</td>\n",
       "      <td>Credit</td>\n",
       "      <td>1810681.59</td>\n",
       "      <td></td>\n",
       "    </tr>\n",
       "    <tr>\n",
       "      <th>2</th>\n",
       "      <td>1110-0000</td>\n",
       "      <td>Cash</td>\n",
       "      <td>ap-mc11</td>\n",
       "      <td>4203 11TH LLC</td>\n",
       "      <td>42031</td>\n",
       "      <td></td>\n",
       "      <td></td>\n",
       "      <td></td>\n",
       "      <td></td>\n",
       "      <td>10/27/2020</td>\n",
       "      <td>12/01/2020</td>\n",
       "      <td>Webster S8 (t0034597)</td>\n",
       "      <td>K-417819</td>\n",
       "      <td>183</td>\n",
       "      <td>9100.00</td>\n",
       "      <td>Credit</td>\n",
       "      <td>1801581.59</td>\n",
       "      <td></td>\n",
       "    </tr>\n",
       "    <tr>\n",
       "      <th>3</th>\n",
       "      <td>1110-0000</td>\n",
       "      <td>Cash</td>\n",
       "      <td>ap-mc11</td>\n",
       "      <td>4203 11TH LLC</td>\n",
       "      <td>42052</td>\n",
       "      <td></td>\n",
       "      <td></td>\n",
       "      <td></td>\n",
       "      <td></td>\n",
       "      <td>10/29/2020</td>\n",
       "      <td>12/01/2020</td>\n",
       "      <td>Jones (t0034602)</td>\n",
       "      <td>K-420897</td>\n",
       "      <td>187</td>\n",
       "      <td>3500.00</td>\n",
       "      <td>Credit</td>\n",
       "      <td>1798081.59</td>\n",
       "      <td>First Buyout Check</td>\n",
       "    </tr>\n",
       "    <tr>\n",
       "      <th>4</th>\n",
       "      <td>1110-0000</td>\n",
       "      <td>Cash</td>\n",
       "      <td>ap-mc11</td>\n",
       "      <td>4203 11TH LLC</td>\n",
       "      <td>42053</td>\n",
       "      <td></td>\n",
       "      <td></td>\n",
       "      <td></td>\n",
       "      <td></td>\n",
       "      <td>11/02/2020</td>\n",
       "      <td>12/01/2020</td>\n",
       "      <td>Dow (t0034603)</td>\n",
       "      <td>K-421957</td>\n",
       "      <td>190</td>\n",
       "      <td>3500.00</td>\n",
       "      <td>Credit</td>\n",
       "      <td>1794581.59</td>\n",
       "      <td>First Buyout Check</td>\n",
       "    </tr>\n",
       "    <tr>\n",
       "      <th>5</th>\n",
       "      <td>1110-0000</td>\n",
       "      <td>Cash</td>\n",
       "      <td>ap-mc11</td>\n",
       "      <td>4203 11TH LLC</td>\n",
       "      <td>42052</td>\n",
       "      <td></td>\n",
       "      <td></td>\n",
       "      <td></td>\n",
       "      <td></td>\n",
       "      <td>11/03/2020</td>\n",
       "      <td>12/01/2020</td>\n",
       "      <td>Jones (t0034602)</td>\n",
       "      <td>K-422953</td>\n",
       "      <td>192</td>\n",
       "      <td>3500.00</td>\n",
       "      <td>Credit</td>\n",
       "      <td>1791081.59</td>\n",
       "      <td>2nd buyout check</td>\n",
       "    </tr>\n",
       "    <tr>\n",
       "      <th>6</th>\n",
       "      <td>1110-0000</td>\n",
       "      <td>Cash</td>\n",
       "      <td>ap-mc11</td>\n",
       "      <td>4203 11TH LLC</td>\n",
       "      <td>42032</td>\n",
       "      <td></td>\n",
       "      <td></td>\n",
       "      <td></td>\n",
       "      <td></td>\n",
       "      <td>11/03/2020</td>\n",
       "      <td>12/01/2020</td>\n",
       "      <td>EMC Capital (emc)</td>\n",
       "      <td>K-422964</td>\n",
       "      <td>193</td>\n",
       "      <td>1800.00</td>\n",
       "      <td>Credit</td>\n",
       "      <td>1789281.59</td>\n",
       "      <td>close out contract</td>\n",
       "    </tr>\n",
       "    <tr>\n",
       "      <th>7</th>\n",
       "      <td>1110-0000</td>\n",
       "      <td>Cash</td>\n",
       "      <td>ap-mc11</td>\n",
       "      <td>4203 11TH LLC</td>\n",
       "      <td>42031</td>\n",
       "      <td></td>\n",
       "      <td></td>\n",
       "      <td></td>\n",
       "      <td></td>\n",
       "      <td>11/03/2020</td>\n",
       "      <td>12/01/2020</td>\n",
       "      <td>EMC Capital (emc)</td>\n",
       "      <td>K-422964</td>\n",
       "      <td>193</td>\n",
       "      <td>2640.00</td>\n",
       "      <td>Credit</td>\n",
       "      <td>1786641.59</td>\n",
       "      <td>close out contract</td>\n",
       "    </tr>\n",
       "    <tr>\n",
       "      <th>8</th>\n",
       "      <td>1110-0000</td>\n",
       "      <td>Cash</td>\n",
       "      <td>ap-mc11</td>\n",
       "      <td>4203 11TH LLC</td>\n",
       "      <td>42032</td>\n",
       "      <td></td>\n",
       "      <td></td>\n",
       "      <td></td>\n",
       "      <td></td>\n",
       "      <td>11/03/2020</td>\n",
       "      <td>12/01/2020</td>\n",
       "      <td>Webster (t0034598)</td>\n",
       "      <td>K-423068</td>\n",
       "      <td>194</td>\n",
       "      <td>2500.00</td>\n",
       "      <td>Credit</td>\n",
       "      <td>1784141.59</td>\n",
       "      <td>2nd buyout check</td>\n",
       "    </tr>\n",
       "    <tr>\n",
       "      <th>9</th>\n",
       "      <td>1110-0000</td>\n",
       "      <td>Cash</td>\n",
       "      <td>ap-mc11</td>\n",
       "      <td>4203 11TH LLC</td>\n",
       "      <td></td>\n",
       "      <td></td>\n",
       "      <td></td>\n",
       "      <td></td>\n",
       "      <td></td>\n",
       "      <td>12/01/2020</td>\n",
       "      <td>12/01/2020</td>\n",
       "      <td>Afton Properties  Inc. (aftonpr)</td>\n",
       "      <td>K-435761</td>\n",
       "      <td>207</td>\n",
       "      <td>360.53</td>\n",
       "      <td>Credit</td>\n",
       "      <td>1783781.06</td>\n",
       "      <td>Management Fees</td>\n",
       "    </tr>\n",
       "  </tbody>\n",
       "</table>\n",
       "</div>"
      ],
      "text/plain": [
       "      GLCODE  GLNAME  PROPERTY    PROPERTYNAME    UNIT  BUILDING  \\\n",
       "0  1110-0000    Cash   ap-mc11   4203 11TH LLC   42031             \n",
       "1  1110-0000    Cash   ap-mc11   4203 11TH LLC   42032             \n",
       "2  1110-0000    Cash   ap-mc11   4203 11TH LLC   42031             \n",
       "3  1110-0000    Cash   ap-mc11   4203 11TH LLC   42052             \n",
       "4  1110-0000    Cash   ap-mc11   4203 11TH LLC   42053             \n",
       "5  1110-0000    Cash   ap-mc11   4203 11TH LLC   42052             \n",
       "6  1110-0000    Cash   ap-mc11   4203 11TH LLC   42032             \n",
       "7  1110-0000    Cash   ap-mc11   4203 11TH LLC   42031             \n",
       "8  1110-0000    Cash   ap-mc11   4203 11TH LLC   42032             \n",
       "9  1110-0000    Cash   ap-mc11   4203 11TH LLC                     \n",
       "\n",
       "   SPECIALCIRCUMSTANCE  USAGEAMOUNT  USAGETYPE         DATE       PERIOD  \\\n",
       "0                                                09/09/2020   12/01/2020   \n",
       "1                                                09/29/2020   12/01/2020   \n",
       "2                                                10/27/2020   12/01/2020   \n",
       "3                                                10/29/2020   12/01/2020   \n",
       "4                                                11/02/2020   12/01/2020   \n",
       "5                                                11/03/2020   12/01/2020   \n",
       "6                                                11/03/2020   12/01/2020   \n",
       "7                                                11/03/2020   12/01/2020   \n",
       "8                                                11/03/2020   12/01/2020   \n",
       "9                                                12/01/2020   12/01/2020   \n",
       "\n",
       "                         DESCRIPTION    CONTROL  REFERENCE   AMOUNT  \\\n",
       "0              Webster S8 (t0034597)   K-396581        165  8500.00   \n",
       "1                 Webster (t0034598)   K-405215        173  2500.00   \n",
       "2              Webster S8 (t0034597)   K-417819        183  9100.00   \n",
       "3                   Jones (t0034602)   K-420897        187  3500.00   \n",
       "4                     Dow (t0034603)   K-421957        190  3500.00   \n",
       "5                   Jones (t0034602)   K-422953        192  3500.00   \n",
       "6                  EMC Capital (emc)   K-422964        193  1800.00   \n",
       "7                  EMC Capital (emc)   K-422964        193  2640.00   \n",
       "8                 Webster (t0034598)   K-423068        194  2500.00   \n",
       "9   Afton Properties  Inc. (aftonpr)   K-435761        207   360.53   \n",
       "\n",
       "   DEBITCREDIT      BALANCE              REMARKS  \n",
       "0       Credit   1813181.59   First buyout check  \n",
       "1       Credit   1810681.59                       \n",
       "2       Credit   1801581.59                       \n",
       "3       Credit   1798081.59   First Buyout Check  \n",
       "4       Credit   1794581.59   First Buyout Check  \n",
       "5       Credit   1791081.59     2nd buyout check  \n",
       "6       Credit   1789281.59   close out contract  \n",
       "7       Credit   1786641.59   close out contract  \n",
       "8       Credit   1784141.59     2nd buyout check  \n",
       "9       Credit   1783781.06      Management Fees  "
      ]
     },
     "execution_count": 41,
     "metadata": {},
     "output_type": "execute_result"
    }
   ],
   "source": [
    "df = pd.read_csv('export_yardi_jourentline.csv', lineterminator=\"\\n\")\n",
    "df[0:10]"
   ]
  },
  {
   "cell_type": "code",
   "execution_count": 42,
   "metadata": {},
   "outputs": [],
   "source": [
    "df.columns = df.columns.map(lambda c: c.strip())"
   ]
  },
  {
   "cell_type": "code",
   "execution_count": 43,
   "metadata": {},
   "outputs": [],
   "source": [
    "df = df.drop(columns=['BUILDING', 'SPECIALCIRCUMSTANCE', 'USAGEAMOUNT', 'USAGETYPE'])\n",
    "df['AMOUNT'] = df['AMOUNT'].astype(np.int64)"
   ]
  },
  {
   "cell_type": "code",
   "execution_count": 44,
   "metadata": {},
   "outputs": [],
   "source": [
    "label_encoder = LabelEncoder() \n",
    "amount_col = df['AMOUNT'].copy()\n",
    "object_cols = [col for col in df.columns if df[col].dtype == 'object']\n",
    "label_df = df.drop(columns=['AMOUNT'])\n",
    "for col in set(object_cols):\n",
    "    label_df[col] = label_encoder.fit_transform(label_df[col])"
   ]
  },
  {
   "cell_type": "code",
   "execution_count": 45,
   "metadata": {},
   "outputs": [],
   "source": [
    "label_df['AMOUNT'] = amount_col.copy()"
   ]
  },
  {
   "cell_type": "code",
   "execution_count": 46,
   "metadata": {},
   "outputs": [
    {
     "name": "stdout",
     "output_type": "stream",
     "text": [
      "3          14114\n",
      "1           9108\n",
      "0           2653\n",
      "2           1820\n",
      "4           1226\n",
      "           ...  \n",
      "3787           1\n",
      "10620          1\n",
      "26134          1\n",
      "448000         1\n",
      "1670000        1\n",
      "Name: AMOUNT, Length: 2815, dtype: int64\n"
     ]
    }
   ],
   "source": [
    "print(label_df['AMOUNT'].value_counts())"
   ]
  },
  {
   "cell_type": "code",
   "execution_count": 47,
   "metadata": {},
   "outputs": [],
   "source": [
    "neighbors = NearestNeighbors(n_neighbors=3)\n",
    "nbrs = neighbors.fit(label_df)\n",
    "distances, indices = nbrs.kneighbors(label_df)"
   ]
  },
  {
   "cell_type": "code",
   "execution_count": 48,
   "metadata": {},
   "outputs": [
    {
     "data": {
      "text/plain": [
       "[<matplotlib.lines.Line2D at 0x7fef252ef940>,\n",
       " <matplotlib.lines.Line2D at 0x7fef252efa30>,\n",
       " <matplotlib.lines.Line2D at 0x7fef252efaf0>]"
      ]
     },
     "execution_count": 48,
     "metadata": {},
     "output_type": "execute_result"
    },
    {
     "data": {
      "image/png": "[encoded data removed]",
      "text/plain": [
       "<Figure size 432x288 with 1 Axes>"
      ]
     },
     "metadata": {
      "needs_background": "light"
     },
     "output_type": "display_data"
    }
   ],
   "source": [
    "distances = np.sort(distances, axis=0)\n",
    "distance = distances [:,1]\n",
    "plt.plot(distances)"
   ]
  },
  {
   "cell_type": "code",
   "execution_count": 49,
   "metadata": {},
   "outputs": [],
   "source": [
    "model = DBSCAN(\n",
    "  eps = 10000,\n",
    "  metric=\"euclidean\",\n",
    "  min_samples = 3,\n",
    "  n_jobs = -1)\n",
    "\n",
    "preds = model.fit_predict(label_df)"
   ]
  },
  {
   "cell_type": "code",
   "execution_count": 50,
   "metadata": {},
   "outputs": [
    {
     "name": "stdout",
     "output_type": "stream",
     "text": [
      " 0     96705\n",
      "-1       125\n",
      " 1         9\n",
      " 6         8\n",
      " 2         5\n",
      " 3         5\n",
      " 4         5\n",
      " 11        5\n",
      " 8         4\n",
      " 10        4\n",
      " 12        4\n",
      " 5         3\n",
      " 7         3\n",
      " 9         3\n",
      " 13        3\n",
      " 14        3\n",
      "Name: ANOMALY, dtype: int64\n"
     ]
    }
   ],
   "source": [
    "label_df['ANOMALY'] = preds.copy()\n",
    "print(label_df['ANOMALY'].value_counts())"
   ]
  },
  {
   "cell_type": "code",
   "execution_count": 51,
   "metadata": {},
   "outputs": [
    {
     "data": {
      "text/plain": [
       "<AxesSubplot:ylabel='AMOUNT'>"
      ]
     },
     "execution_count": 51,
     "metadata": {},
     "output_type": "execute_result"
    },
    {
     "data": {
      "image/png": "[encoded data removed]",
      "text/plain": [
       "<Figure size 432x288 with 1 Axes>"
      ]
     },
     "metadata": {
      "needs_background": "light"
     },
     "output_type": "display_data"
    }
   ],
   "source": [
    "sns.scatterplot(data=label_df['AMOUNT'])"
   ]
  },
  {
   "cell_type": "code",
   "execution_count": 52,
   "metadata": {},
   "outputs": [
    {
     "name": "stdout",
     "output_type": "stream",
     "text": [
      "Total Amount of Outliers:  125\n",
      "      AMOUNT  INDEX\n",
      "44     63000  30014\n",
      "47     65353  30357\n",
      "46     65353  30322\n",
      "113    67676  47107\n",
      "13     67676  12846\n",
      "..       ...    ...\n",
      "37   2560000  29845\n",
      "82   2663000  46879\n",
      "72   3100000  46868\n",
      "36   3840000  29843\n",
      "38   4360000  29846\n",
      "\n",
      "[125 rows x 2 columns]\n"
     ]
    }
   ],
   "source": [
    "outlier_df = pd.DataFrame(columns = ['AMOUNT', 'INDEX'])\n",
    "\n",
    "for index in range(len(label_df)):\n",
    "    if label_df['ANOMALY'][index] == -1:\n",
    "        outlier_df = outlier_df.append({'AMOUNT': label_df['AMOUNT'][index], 'INDEX': index}, ignore_index=True)\n",
    "        \n",
    "print('Total Amount of Outliers: ', outlier_df.shape[0])\n",
    "print(outlier_df.sort_values(by='AMOUNT')[0:125])"
   ]
  }
 ],
 "metadata": {
  "kernelspec": {
   "display_name": "Python 3",
   "language": "python",
   "name": "python3"
  },
  "language_info": {
   "codemirror_mode": {
    "name": "ipython",
    "version": 3
   },
   "file_extension": ".py",
   "mimetype": "text/x-python",
   "name": "python",
   "nbconvert_exporter": "python",
   "pygments_lexer": "ipython3",
   "version": "3.8.5"
  }
 },
 "nbformat": 4,
 "nbformat_minor": 4
}
